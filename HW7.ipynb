{
 "cells": [
  {
   "cell_type": "code",
   "execution_count": 1,
   "metadata": {},
   "outputs": [
    {
     "name": "stdout",
     "output_type": "stream",
     "text": [
      "--2024-12-01 14:00:23--  https://raw.githubusercontent.com/MSUcourses/Data-Analysis-with-Python/main/Deep%20Learning/Files/train_authors_new.csv\n",
      "Распознаётся raw.githubusercontent.com (raw.githubusercontent.com)… 185.199.111.133, 185.199.109.133, 185.199.110.133, ...\n",
      "Подключение к raw.githubusercontent.com (raw.githubusercontent.com)|185.199.111.133|:443... соединение установлено.\n",
      "HTTP-запрос отправлен. Ожидание ответа… 200 OK\n",
      "Длина: 5163531 (4,9M) [text/plain]\n",
      "Сохранение в: «train_authors.csv»\n",
      "\n",
      "train_authors.csv   100%[===================>]   4,92M  14,0MB/s    за 0,4s    \n",
      "\n",
      "2024-12-01 14:00:24 (14,0 MB/s) - «train_authors.csv» сохранён [5163531/5163531]\n",
      "\n"
     ]
    }
   ],
   "source": [
    "!wget -O train_authors.csv https://raw.githubusercontent.com/MSUcourses/Data-Analysis-with-Python/main/Deep%20Learning/Files/train_authors_new.csv"
   ]
  },
  {
   "cell_type": "code",
   "execution_count": 37,
   "metadata": {},
   "outputs": [
    {
     "name": "stdout",
     "output_type": "stream",
     "text": [
      "Collecting ipywidgets\n",
      "  Downloading ipywidgets-8.1.5-py3-none-any.whl.metadata (2.3 kB)\n",
      "Requirement already satisfied: comm>=0.1.3 in /Users/glebslivin/venvs/ML/lib/python3.10/site-packages (from ipywidgets) (0.2.2)\n",
      "Requirement already satisfied: ipython>=6.1.0 in /Users/glebslivin/venvs/ML/lib/python3.10/site-packages (from ipywidgets) (8.22.2)\n",
      "Requirement already satisfied: traitlets>=4.3.1 in /Users/glebslivin/venvs/ML/lib/python3.10/site-packages (from ipywidgets) (5.14.2)\n",
      "Collecting widgetsnbextension~=4.0.12 (from ipywidgets)\n",
      "  Downloading widgetsnbextension-4.0.13-py3-none-any.whl.metadata (1.6 kB)\n",
      "Collecting jupyterlab-widgets~=3.0.12 (from ipywidgets)\n",
      "  Downloading jupyterlab_widgets-3.0.13-py3-none-any.whl.metadata (4.1 kB)\n",
      "Requirement already satisfied: decorator in /Users/glebslivin/venvs/ML/lib/python3.10/site-packages (from ipython>=6.1.0->ipywidgets) (5.1.1)\n",
      "Requirement already satisfied: jedi>=0.16 in /Users/glebslivin/venvs/ML/lib/python3.10/site-packages (from ipython>=6.1.0->ipywidgets) (0.19.1)\n",
      "Requirement already satisfied: matplotlib-inline in /Users/glebslivin/venvs/ML/lib/python3.10/site-packages (from ipython>=6.1.0->ipywidgets) (0.1.6)\n",
      "Requirement already satisfied: prompt-toolkit<3.1.0,>=3.0.41 in /Users/glebslivin/venvs/ML/lib/python3.10/site-packages (from ipython>=6.1.0->ipywidgets) (3.0.43)\n",
      "Requirement already satisfied: pygments>=2.4.0 in /Users/glebslivin/venvs/ML/lib/python3.10/site-packages (from ipython>=6.1.0->ipywidgets) (2.17.2)\n",
      "Requirement already satisfied: stack-data in /Users/glebslivin/venvs/ML/lib/python3.10/site-packages (from ipython>=6.1.0->ipywidgets) (0.6.3)\n",
      "Requirement already satisfied: exceptiongroup in /Users/glebslivin/venvs/ML/lib/python3.10/site-packages (from ipython>=6.1.0->ipywidgets) (1.2.0)\n",
      "Requirement already satisfied: pexpect>4.3 in /Users/glebslivin/venvs/ML/lib/python3.10/site-packages (from ipython>=6.1.0->ipywidgets) (4.9.0)\n",
      "Requirement already satisfied: parso<0.9.0,>=0.8.3 in /Users/glebslivin/venvs/ML/lib/python3.10/site-packages (from jedi>=0.16->ipython>=6.1.0->ipywidgets) (0.8.3)\n",
      "Requirement already satisfied: ptyprocess>=0.5 in /Users/glebslivin/venvs/ML/lib/python3.10/site-packages (from pexpect>4.3->ipython>=6.1.0->ipywidgets) (0.7.0)\n",
      "Requirement already satisfied: wcwidth in /Users/glebslivin/venvs/ML/lib/python3.10/site-packages (from prompt-toolkit<3.1.0,>=3.0.41->ipython>=6.1.0->ipywidgets) (0.2.13)\n",
      "Requirement already satisfied: executing>=1.2.0 in /Users/glebslivin/venvs/ML/lib/python3.10/site-packages (from stack-data->ipython>=6.1.0->ipywidgets) (2.0.1)\n",
      "Requirement already satisfied: asttokens>=2.1.0 in /Users/glebslivin/venvs/ML/lib/python3.10/site-packages (from stack-data->ipython>=6.1.0->ipywidgets) (2.4.1)\n",
      "Requirement already satisfied: pure-eval in /Users/glebslivin/venvs/ML/lib/python3.10/site-packages (from stack-data->ipython>=6.1.0->ipywidgets) (0.2.2)\n",
      "Requirement already satisfied: six>=1.12.0 in /Users/glebslivin/venvs/ML/lib/python3.10/site-packages (from asttokens>=2.1.0->stack-data->ipython>=6.1.0->ipywidgets) (1.16.0)\n",
      "Downloading ipywidgets-8.1.5-py3-none-any.whl (139 kB)\n",
      "\u001b[2K   \u001b[90m━━━━━━━━━━━━━━━━━━━━━━━━━━━━━━━━━━━━━━━\u001b[0m \u001b[32m139.8/139.8 kB\u001b[0m \u001b[31m653.1 kB/s\u001b[0m eta \u001b[36m0:00:00\u001b[0ma \u001b[36m0:00:01\u001b[0m\n",
      "\u001b[?25hDownloading jupyterlab_widgets-3.0.13-py3-none-any.whl (214 kB)\n",
      "\u001b[2K   \u001b[90m━━━━━━━━━━━━━━━━━━━━━━━━━━━━━━━━━━━━━━━━\u001b[0m \u001b[32m214.4/214.4 kB\u001b[0m \u001b[31m2.1 MB/s\u001b[0m eta \u001b[36m0:00:00\u001b[0ma \u001b[36m0:00:01\u001b[0m\n",
      "\u001b[?25hDownloading widgetsnbextension-4.0.13-py3-none-any.whl (2.3 MB)\n",
      "\u001b[2K   \u001b[90m━━━━━━━━━━━━━━━━━━━━━━━━━━━━━━━━━━━━━━━━\u001b[0m \u001b[32m2.3/2.3 MB\u001b[0m \u001b[31m1.7 MB/s\u001b[0m eta \u001b[36m0:00:00\u001b[0ma \u001b[36m0:00:01\u001b[0m\n",
      "\u001b[?25hInstalling collected packages: widgetsnbextension, jupyterlab-widgets, ipywidgets\n",
      "Successfully installed ipywidgets-8.1.5 jupyterlab-widgets-3.0.13 widgetsnbextension-4.0.13\n",
      "\n",
      "\u001b[1m[\u001b[0m\u001b[34;49mnotice\u001b[0m\u001b[1;39;49m]\u001b[0m\u001b[39;49m A new release of pip is available: \u001b[0m\u001b[31;49m24.0\u001b[0m\u001b[39;49m -> \u001b[0m\u001b[32;49m24.3.1\u001b[0m\n",
      "\u001b[1m[\u001b[0m\u001b[34;49mnotice\u001b[0m\u001b[1;39;49m]\u001b[0m\u001b[39;49m To update, run: \u001b[0m\u001b[32;49mpip install --upgrade pip\u001b[0m\n"
     ]
    }
   ],
   "source": [
    "! pip3 install ipywidgets "
   ]
  },
  {
   "cell_type": "code",
   "execution_count": 2,
   "metadata": {},
   "outputs": [
    {
     "name": "stdout",
     "output_type": "stream",
     "text": [
      "--2024-12-01 14:00:38--  https://raw.githubusercontent.com/MSUcourses/Data-Analysis-with-Python/main/Deep%20Learning/Files/test_authors_new.csv\n",
      "Распознаётся raw.githubusercontent.com (raw.githubusercontent.com)… 185.199.109.133, 185.199.110.133, 185.199.108.133, ...\n",
      "Подключение к raw.githubusercontent.com (raw.githubusercontent.com)|185.199.109.133|:443... соединение установлено.\n",
      "HTTP-запрос отправлен. Ожидание ответа… 200 OK\n",
      "Длина: 961703 (939K) [text/plain]\n",
      "Сохранение в: «test_authors.csv»\n",
      "\n",
      "test_authors.csv    100%[===================>] 939,16K  4,37MB/s    за 0,2s    \n",
      "\n",
      "2024-12-01 14:00:38 (4,37 MB/s) - «test_authors.csv» сохранён [961703/961703]\n",
      "\n"
     ]
    }
   ],
   "source": [
    "!wget -O test_authors.csv https://raw.githubusercontent.com/MSUcourses/Data-Analysis-with-Python/main/Deep%20Learning/Files/test_authors_new.csv"
   ]
  },
  {
   "cell_type": "code",
   "execution_count": 109,
   "metadata": {},
   "outputs": [
    {
     "name": "stderr",
     "output_type": "stream",
     "text": [
      "[nltk_data] Downloading package punkt to\n",
      "[nltk_data]     /Users/glebslivin/nltk_data...\n",
      "[nltk_data]   Package punkt is already up-to-date!\n"
     ]
    },
    {
     "data": {
      "text/plain": [
       "True"
      ]
     },
     "execution_count": 109,
     "metadata": {},
     "output_type": "execute_result"
    }
   ],
   "source": [
    "import torch\n",
    "import torch.nn as nn\n",
    "from torch.utils.data import Dataset, DataLoader\n",
    "\n",
    "import numpy as np\n",
    "import matplotlib.pyplot as plt\n",
    "\n",
    "from tqdm.auto import tqdm\n",
    "from nltk.tokenize import word_tokenize\n",
    "from sklearn.model_selection import train_test_split\n",
    "import nltk\n",
    "from tqdm import tqdm_notebook\n",
    "import torch.nn as nn                                                             # тут все блоки нейронных сетей, слои\n",
    "import torch.nn.functional as F\n",
    "\n",
    "from collections import Counter\n",
    "from typing import List\n",
    "import string\n",
    "\n",
    "import seaborn\n",
    "seaborn.set(palette='summer')\n",
    "\n",
    "# скачиваем нужный пакет данных для работы библиотеки nltk\n",
    "nltk.download('punkt')"
   ]
  },
  {
   "cell_type": "code",
   "execution_count": 110,
   "metadata": {},
   "outputs": [
    {
     "data": {
      "text/plain": [
       "'cpu'"
      ]
     },
     "execution_count": 110,
     "metadata": {},
     "output_type": "execute_result"
    }
   ],
   "source": [
    "device = 'cuda' if torch.cuda.is_available() else 'cpu'\n",
    "device"
   ]
  },
  {
   "cell_type": "code",
   "execution_count": 111,
   "metadata": {},
   "outputs": [],
   "source": [
    "# Загрузим датасет\n",
    "import pandas as pd\n",
    "\n",
    "train_data = pd.read_csv('train_authors.csv')\n",
    "\n",
    "train_data, val_data = train_test_split(train_data, test_size=0.5, random_state=42)"
   ]
  },
  {
   "cell_type": "code",
   "execution_count": 112,
   "metadata": {},
   "outputs": [
    {
     "data": {
      "text/html": [
       "<div>\n",
       "<style scoped>\n",
       "    .dataframe tbody tr th:only-of-type {\n",
       "        vertical-align: middle;\n",
       "    }\n",
       "\n",
       "    .dataframe tbody tr th {\n",
       "        vertical-align: top;\n",
       "    }\n",
       "\n",
       "    .dataframe thead th {\n",
       "        text-align: right;\n",
       "    }\n",
       "</style>\n",
       "<table border=\"1\" class=\"dataframe\">\n",
       "  <thead>\n",
       "    <tr style=\"text-align: right;\">\n",
       "      <th></th>\n",
       "      <th>text</th>\n",
       "      <th>author</th>\n",
       "    </tr>\n",
       "  </thead>\n",
       "  <tbody>\n",
       "    <tr>\n",
       "      <th>522</th>\n",
       "      <td>Юлия Шигарова\\nВ департаменте… но лучше не наз...</td>\n",
       "      <td>Gogol</td>\n",
       "    </tr>\n",
       "    <tr>\n",
       "      <th>135</th>\n",
       "      <td>Чуб долго еще ворчал и бранился, а между тем в...</td>\n",
       "      <td>Gogol</td>\n",
       "    </tr>\n",
       "    <tr>\n",
       "      <th>727</th>\n",
       "      <td>Зябким мартовским днем бритоголового послушник...</td>\n",
       "      <td>Pratchett</td>\n",
       "    </tr>\n",
       "    <tr>\n",
       "      <th>1405</th>\n",
       "      <td>Начнем с того, чтó у Петра получилось.\\nОн сущ...</td>\n",
       "      <td>Akunin</td>\n",
       "    </tr>\n",
       "    <tr>\n",
       "      <th>1472</th>\n",
       "      <td>Представьте себе существо размером с белку, бе...</td>\n",
       "      <td>Bulychev</td>\n",
       "    </tr>\n",
       "    <tr>\n",
       "      <th>...</th>\n",
       "      <td>...</td>\n",
       "      <td>...</td>\n",
       "    </tr>\n",
       "    <tr>\n",
       "      <th>311</th>\n",
       "      <td>Но материал-то остался. И довольно любопытный....</td>\n",
       "      <td>Akunin</td>\n",
       "    </tr>\n",
       "    <tr>\n",
       "      <th>1170</th>\n",
       "      <td>-Эй! Парень!\\nТот обернулся, и Хогэн бросил ем...</td>\n",
       "      <td>King</td>\n",
       "    </tr>\n",
       "    <tr>\n",
       "      <th>1175</th>\n",
       "      <td>-Ну как знаете,- сказал я и сделал вид, будто ...</td>\n",
       "      <td>Remark</td>\n",
       "    </tr>\n",
       "    <tr>\n",
       "      <th>665</th>\n",
       "      <td>-Я тебе говорю, сволочь!- сказал полицейский.-...</td>\n",
       "      <td>Remark</td>\n",
       "    </tr>\n",
       "    <tr>\n",
       "      <th>364</th>\n",
       "      <td>На экране клубились снежные вихри, в просветах...</td>\n",
       "      <td>Bulychev</td>\n",
       "    </tr>\n",
       "  </tbody>\n",
       "</table>\n",
       "<p>867 rows × 2 columns</p>\n",
       "</div>"
      ],
      "text/plain": [
       "                                                   text     author\n",
       "522   Юлия Шигарова\\nВ департаменте… но лучше не наз...      Gogol\n",
       "135   Чуб долго еще ворчал и бранился, а между тем в...      Gogol\n",
       "727   Зябким мартовским днем бритоголового послушник...  Pratchett\n",
       "1405  Начнем с того, чтó у Петра получилось.\\nОн сущ...     Akunin\n",
       "1472  Представьте себе существо размером с белку, бе...   Bulychev\n",
       "...                                                 ...        ...\n",
       "311   Но материал-то остался. И довольно любопытный....     Akunin\n",
       "1170  -Эй! Парень!\\nТот обернулся, и Хогэн бросил ем...       King\n",
       "1175  -Ну как знаете,- сказал я и сделал вид, будто ...     Remark\n",
       "665   -Я тебе говорю, сволочь!- сказал полицейский.-...     Remark\n",
       "364   На экране клубились снежные вихри, в просветах...   Bulychev\n",
       "\n",
       "[867 rows x 2 columns]"
      ]
     },
     "execution_count": 112,
     "metadata": {},
     "output_type": "execute_result"
    }
   ],
   "source": [
    "val_data"
   ]
  },
  {
   "cell_type": "code",
   "execution_count": 113,
   "metadata": {},
   "outputs": [
    {
     "data": {
      "text/html": [
       "<div>\n",
       "<style scoped>\n",
       "    .dataframe tbody tr th:only-of-type {\n",
       "        vertical-align: middle;\n",
       "    }\n",
       "\n",
       "    .dataframe tbody tr th {\n",
       "        vertical-align: top;\n",
       "    }\n",
       "\n",
       "    .dataframe thead th {\n",
       "        text-align: right;\n",
       "    }\n",
       "</style>\n",
       "<table border=\"1\" class=\"dataframe\">\n",
       "  <thead>\n",
       "    <tr style=\"text-align: right;\">\n",
       "      <th></th>\n",
       "      <th>text</th>\n",
       "    </tr>\n",
       "  </thead>\n",
       "  <tbody>\n",
       "    <tr>\n",
       "      <th>0</th>\n",
       "      <td>-Не выглядывал еще. Дрыхнет… Почему да почему?...</td>\n",
       "    </tr>\n",
       "    <tr>\n",
       "      <th>1</th>\n",
       "      <td>Идти ему было немного; он даже знал, сколько ш...</td>\n",
       "    </tr>\n",
       "    <tr>\n",
       "      <th>2</th>\n",
       "      <td>Придется вернуться в самое изголовье и начать ...</td>\n",
       "    </tr>\n",
       "    <tr>\n",
       "      <th>3</th>\n",
       "      <td>-С ума сойти,- сказал отец. Он обернулся, увид...</td>\n",
       "    </tr>\n",
       "    <tr>\n",
       "      <th>4</th>\n",
       "      <td>Во-вторых, положение Петра после захвата власт...</td>\n",
       "    </tr>\n",
       "  </tbody>\n",
       "</table>\n",
       "</div>"
      ],
      "text/plain": [
       "                                                text\n",
       "0  -Не выглядывал еще. Дрыхнет… Почему да почему?...\n",
       "1  Идти ему было немного; он даже знал, сколько ш...\n",
       "2  Придется вернуться в самое изголовье и начать ...\n",
       "3  -С ума сойти,- сказал отец. Он обернулся, увид...\n",
       "4  Во-вторых, положение Петра после захвата власт..."
      ]
     },
     "execution_count": 113,
     "metadata": {},
     "output_type": "execute_result"
    }
   ],
   "source": [
    "test_data = pd.read_csv('test_authors.csv')\n",
    "test_data.head()"
   ]
  },
  {
   "cell_type": "code",
   "execution_count": 114,
   "metadata": {},
   "outputs": [],
   "source": [
    "writers = ['Akunin', 'Bulychev', 'Chehov', 'Dostoevsky', 'Gogol', 'King',\n",
    "       'Pratchett', 'Remark']\n",
    "writers_to_label = {writer: i for i, writer in enumerate(writers)}\n",
    "label_to_writers = {i: writer for i, writer in enumerate(writers)}"
   ]
  },
  {
   "cell_type": "code",
   "execution_count": 115,
   "metadata": {},
   "outputs": [],
   "source": [
    "dataset = {}\n",
    "\n",
    "dataset['train'] = [{'text':text, 'author':writers_to_label[label]} \\\n",
    "              for text, label in zip(np.array(train_data['text']), np.array(train_data['author']))]\n",
    "dataset['val'] = [{'text':text, 'author':writers_to_label[label]} \\\n",
    "              for text, label in zip(np.array(val_data['text']), np.array(val_data['author']))]\n",
    "dataset['test'] = [{'text':text, 'author': 0} \\\n",
    "              for text in np.array(test_data['text'])]"
   ]
  },
  {
   "cell_type": "code",
   "execution_count": null,
   "metadata": {},
   "outputs": [],
   "source": []
  },
  {
   "cell_type": "code",
   "execution_count": 116,
   "metadata": {},
   "outputs": [
    {
     "name": "stderr",
     "output_type": "stream",
     "text": [
      "[nltk_data] Downloading package punkt_tab to\n",
      "[nltk_data]     /Users/glebslivin/nltk_data...\n",
      "[nltk_data]   Package punkt_tab is already up-to-date!\n",
      "[nltk_data] Downloading package punkt to\n",
      "[nltk_data]     /Users/glebslivin/nltk_data...\n",
      "[nltk_data]   Package punkt is already up-to-date!\n",
      "/var/folders/q8/b2ly0p957ml1pzxty4q0cbyc0000gn/T/ipykernel_3710/2050094917.py:32: TqdmDeprecationWarning: This function will be removed in tqdm==5.0.0\n",
      "Please use `tqdm.notebook.tqdm` instead of `tqdm.tqdm_notebook`\n",
      "  for example in tqdm_notebook(dataset['train']):\n"
     ]
    },
    {
     "data": {
      "application/vnd.jupyter.widget-view+json": {
       "model_id": "40c7c15f41ec479486a8a66705a85f64",
       "version_major": 2,
       "version_minor": 0
      },
      "text/plain": [
       "  0%|          | 0/867 [00:00<?, ?it/s]"
      ]
     },
     "metadata": {},
     "output_type": "display_data"
    },
    {
     "name": "stderr",
     "output_type": "stream",
     "text": [
      "/var/folders/q8/b2ly0p957ml1pzxty4q0cbyc0000gn/T/ipykernel_3710/2050094917.py:42: TqdmDeprecationWarning: This function will be removed in tqdm==5.0.0\n",
      "Please use `tqdm.notebook.tqdm` instead of `tqdm.tqdm_notebook`\n",
      "  for example in tqdm_notebook(dataset['val']):\n"
     ]
    },
    {
     "data": {
      "application/vnd.jupyter.widget-view+json": {
       "model_id": "2751085f17164bc6933c15a320fc4fb4",
       "version_major": 2,
       "version_minor": 0
      },
      "text/plain": [
       "  0%|          | 0/867 [00:00<?, ?it/s]"
      ]
     },
     "metadata": {},
     "output_type": "display_data"
    },
    {
     "name": "stderr",
     "output_type": "stream",
     "text": [
      "/var/folders/q8/b2ly0p957ml1pzxty4q0cbyc0000gn/T/ipykernel_3710/2050094917.py:52: TqdmDeprecationWarning: This function will be removed in tqdm==5.0.0\n",
      "Please use `tqdm.notebook.tqdm` instead of `tqdm.tqdm_notebook`\n",
      "  for example in tqdm_notebook(dataset['test']):\n"
     ]
    },
    {
     "data": {
      "application/vnd.jupyter.widget-view+json": {
       "model_id": "f40701dda6f140688c8e754f13df8eba",
       "version_major": 2,
       "version_minor": 0
      },
      "text/plain": [
       "  0%|          | 0/330 [00:00<?, ?it/s]"
      ]
     },
     "metadata": {},
     "output_type": "display_data"
    }
   ],
   "source": [
    "# библиотека для работы со строками. С ее помощью мы удалим знаки препинания\n",
    "import string\n",
    "# счетчик для создания счетчика слов\n",
    "from collections import Counter\n",
    "# библиотека, с помощью которой разобьем текст на токены\n",
    "import nltk\n",
    "from nltk.tokenize import word_tokenize\n",
    "\n",
    "nltk.download('punkt_tab')\n",
    "\n",
    "# скачиваем нужный пакет данных для работы библиотеки nltk\n",
    "nltk.download('punkt')\n",
    "\n",
    "# функция для обработки предложения\n",
    "def process_and_tokenize_text(text):\n",
    "    # приводим к нижнему регистру и убираем пунктуацию\n",
    "    prccessed_text = text.lower().translate(\n",
    "        str.maketrans('', '', string.punctuation))\n",
    "    # токенизируем текст\n",
    "    tokens = word_tokenize(prccessed_text)\n",
    "    return tokens\n",
    "\n",
    "# массивы для хранения токенизированных тренировочных и тестовых данных\n",
    "train_data = []\n",
    "val_data = []\n",
    "test_data = []\n",
    "\n",
    "# пустой счетчик слов\n",
    "words = Counter()\n",
    "\n",
    "# проходимся по текстам обучающего датасета и предобрабатываем их\n",
    "for example in tqdm_notebook(dataset['train']):\n",
    "    text = example['text']\n",
    "    label = example['author']\n",
    "    text_processed = process_and_tokenize_text(text)\n",
    "    train_data.append((text_processed, label))\n",
    "\n",
    "    # увеличиваем счетчик каждого слова в словаре\n",
    "    for word in text_processed:\n",
    "        words[word] += 1\n",
    "\n",
    "for example in tqdm_notebook(dataset['val']):\n",
    "    text = example['text']\n",
    "    label = example['author']\n",
    "    text_processed = process_and_tokenize_text(text)\n",
    "    val_data.append((text_processed, label))\n",
    "\n",
    "    # увеличиваем счетчик каждого слова в словаре\n",
    "    for word in text_processed:\n",
    "        words[word] += 1\n",
    "#проходимся по текстам тестового датасета и предобрабатываем их\n",
    "for example in tqdm_notebook(dataset['test']):\n",
    "    text = example['text']\n",
    "    label = example['author']\n",
    "    text_processed = process_and_tokenize_text(text)\n",
    "    test_data.append((text_processed, label))"
   ]
  },
  {
   "cell_type": "code",
   "execution_count": 146,
   "metadata": {},
   "outputs": [
    {
     "data": {
      "text/plain": [
       "2707"
      ]
     },
     "execution_count": 146,
     "metadata": {},
     "output_type": "execute_result"
    }
   ],
   "source": [
    "# создаем словарь как множество слов\n",
    "vocab = set(['<unk>', '<bos>', '<eos>', '<pad>'])\n",
    "# будем добавлять в словарь только те слова, которые\n",
    "# встречались в обучающих данных не менее 25 раз\n",
    "    \n",
    "counter_threshold = 15\n",
    "\n",
    "# пополняем словарь словами из words\n",
    "for char, cnt in words.items():\n",
    "    if cnt > counter_threshold:\n",
    "        vocab.add(char)\n",
    "len(vocab)"
   ]
  },
  {
   "cell_type": "code",
   "execution_count": 147,
   "metadata": {},
   "outputs": [],
   "source": [
    "word2ind = {token: i for i, token in enumerate(vocab)}\n",
    "ind2word = {i: token for token, i in word2ind.items()}"
   ]
  },
  {
   "cell_type": "code",
   "execution_count": 148,
   "metadata": {},
   "outputs": [
    {
     "data": {
      "image/png": "[encoded data removed]",
      "text/plain": [
       "<Figure size 640x480 with 1 Axes>"
      ]
     },
     "metadata": {},
     "output_type": "display_data"
    }
   ],
   "source": [
    "plt.hist([len(x[0]) for x in train_data], bins=100);"
   ]
  },
  {
   "cell_type": "code",
   "execution_count": 149,
   "metadata": {},
   "outputs": [],
   "source": [
    "def collate_fn_with_padding(input_batch, max_len=256):\n",
    "    # input_batch — батч пар (токенизированный текст, label)\n",
    "    texts = [x[0] for x in input_batch]\n",
    "    labels = [x[1] for x in input_batch]\n",
    "    # для каждого элемента батча получаем длину токенизированного текста в токенах\n",
    "    seq_lens = [len(x) for x in texts]\n",
    "    # определяем максимальную длину элементов в текущем батче\n",
    "    max_seq_len = min(max(seq_lens), max_len)\n",
    "\n",
    "    # проходимся по элементам батча и заменяем токены на их индексы из словаря\n",
    "    # также последовательности короче max_seq_len дополняем токенами <pad>\n",
    "    processed_texts = []\n",
    "    for text, label in zip(texts, labels):\n",
    "        text = text[:max_seq_len]\n",
    "        text = [word2ind[x] if x in vocab else word2ind['<unk>'] for x in text]\n",
    "        for _ in range(max_seq_len - len(text)):\n",
    "            text.append(word2ind['<pad>'])\n",
    "\n",
    "        processed_texts.append(text)\n",
    "\n",
    "    # переводим элементы батча в форматы тензоров\n",
    "    processed_texts = torch.LongTensor(processed_texts).to(device)\n",
    "    labels = torch.LongTensor(labels).to(device)\n",
    "\n",
    "    # собираем батч\n",
    "    processed_batch = {\n",
    "        'input_ids': processed_texts,\n",
    "        'label': labels\n",
    "    }\n",
    "\n",
    "    return processed_batch"
   ]
  },
  {
   "cell_type": "code",
   "execution_count": 150,
   "metadata": {},
   "outputs": [],
   "source": [
    "# поделим тестовые данные на val и test\n",
    "\n",
    "\n",
    "\n",
    "# заводим даталоадеры\n",
    "batch_size = 128\n",
    "train_dataloader = DataLoader(\n",
    "    train_data, shuffle=True, collate_fn=collate_fn_with_padding, batch_size=batch_size)\n",
    "\n",
    "val_dataloader = DataLoader(\n",
    "    val_data, shuffle=False, collate_fn=collate_fn_with_padding, batch_size=batch_size)\n",
    "\n",
    "test_dataloader = DataLoader(\n",
    "    test_data, shuffle=False, collate_fn=collate_fn_with_padding, batch_size=batch_size)"
   ]
  },
  {
   "cell_type": "code",
   "execution_count": 151,
   "metadata": {},
   "outputs": [
    {
     "data": {
      "text/plain": [
       "(['чуб',\n",
       "  'долго',\n",
       "  'еще',\n",
       "  'ворчал',\n",
       "  'и',\n",
       "  'бранился',\n",
       "  'а',\n",
       "  'между',\n",
       "  'тем',\n",
       "  'в',\n",
       "  'то',\n",
       "  'же',\n",
       "  'время',\n",
       "  'раздумывал',\n",
       "  'на',\n",
       "  'что',\n",
       "  'бы',\n",
       "  'решиться',\n",
       "  'ему',\n",
       "  'до',\n",
       "  'смерти',\n",
       "  'хотелось',\n",
       "  'покалякать',\n",
       "  'о',\n",
       "  'всяком',\n",
       "  'вздоре',\n",
       "  'у',\n",
       "  'дьяка',\n",
       "  'где',\n",
       "  'без',\n",
       "  'всякого',\n",
       "  'сомнения',\n",
       "  'сидел',\n",
       "  'уже',\n",
       "  'и',\n",
       "  'голова',\n",
       "  'и',\n",
       "  'приезжий',\n",
       "  'бас',\n",
       "  'и',\n",
       "  'дегтярь',\n",
       "  'микита',\n",
       "  'ездивший',\n",
       "  'через',\n",
       "  'каждые',\n",
       "  'две',\n",
       "  'недели',\n",
       "  'в',\n",
       "  'полтаву',\n",
       "  'на',\n",
       "  'торги',\n",
       "  'и',\n",
       "  'отпускавший',\n",
       "  'такие',\n",
       "  'шутки',\n",
       "  'что',\n",
       "  'все',\n",
       "  'миряне',\n",
       "  'брались',\n",
       "  'за',\n",
       "  'животы',\n",
       "  'со',\n",
       "  'смеху',\n",
       "  'уже',\n",
       "  'видел',\n",
       "  'чуб',\n",
       "  'мысленно',\n",
       "  'стоявшую',\n",
       "  'на',\n",
       "  'столе',\n",
       "  'варенуху',\n",
       "  'все',\n",
       "  'это',\n",
       "  'было',\n",
       "  'заманчиво',\n",
       "  'правда',\n",
       "  'но',\n",
       "  'темнота',\n",
       "  'ночи',\n",
       "  'напомнила',\n",
       "  'ему',\n",
       "  'о',\n",
       "  'той',\n",
       "  'лени',\n",
       "  'которая',\n",
       "  'так',\n",
       "  'мила',\n",
       "  'всем',\n",
       "  'козакам',\n",
       "  'как',\n",
       "  'бы',\n",
       "  'хорошо',\n",
       "  'теперь',\n",
       "  'лежать',\n",
       "  'поджавши',\n",
       "  'под',\n",
       "  'себя',\n",
       "  'ноги',\n",
       "  'на',\n",
       "  'лежанке',\n",
       "  'курить',\n",
       "  'спокойно',\n",
       "  'люльку',\n",
       "  'и',\n",
       "  'слушать',\n",
       "  'сквозь',\n",
       "  'упоительную',\n",
       "  'дремоту',\n",
       "  'колядки',\n",
       "  'и',\n",
       "  'песни',\n",
       "  'веселых',\n",
       "  'парубков',\n",
       "  'и',\n",
       "  'девушек',\n",
       "  'толпящихся',\n",
       "  'кучами',\n",
       "  'под',\n",
       "  'окнами',\n",
       "  'он',\n",
       "  'бы',\n",
       "  'без',\n",
       "  'всякого',\n",
       "  'сомнения',\n",
       "  'решился',\n",
       "  'на',\n",
       "  'последнее',\n",
       "  'если',\n",
       "  'бы',\n",
       "  'был',\n",
       "  'один',\n",
       "  'но',\n",
       "  'теперь',\n",
       "  'обоим',\n",
       "  'не',\n",
       "  'так',\n",
       "  'скучно',\n",
       "  'и',\n",
       "  'страшно',\n",
       "  'идти',\n",
       "  'темною',\n",
       "  'ночью',\n",
       "  'да',\n",
       "  'и',\n",
       "  'не',\n",
       "  'хотелосьтаки',\n",
       "  'показаться',\n",
       "  'перед',\n",
       "  'другими',\n",
       "  'ленивым',\n",
       "  'или',\n",
       "  'трусливым',\n",
       "  'окончивши',\n",
       "  'побранки',\n",
       "  'обратился',\n",
       "  'он',\n",
       "  'снова',\n",
       "  'к',\n",
       "  'куму',\n",
       "  'так',\n",
       "  'нет',\n",
       "  'кум',\n",
       "  'месяца',\n",
       "  'нет',\n",
       "  'чудно',\n",
       "  'право',\n",
       "  'а',\n",
       "  'дай',\n",
       "  'понюхать',\n",
       "  'табаку',\n",
       "  'у',\n",
       "  'тебя',\n",
       "  'кум',\n",
       "  'славный',\n",
       "  'табак',\n",
       "  'где',\n",
       "  'ты',\n",
       "  'берешь',\n",
       "  'его',\n",
       "  'кой',\n",
       "  'черт',\n",
       "  'славный',\n",
       "  'отвечал',\n",
       "  'кум',\n",
       "  'закрывая',\n",
       "  'березовую',\n",
       "  'тавлинку',\n",
       "  'исколотую',\n",
       "  'узорами',\n",
       "  'старая',\n",
       "  'курица',\n",
       "  'не',\n",
       "  'чихнет',\n",
       "  'я',\n",
       "  'помню',\n",
       "  'продолжал',\n",
       "  'все',\n",
       "  'так',\n",
       "  'же',\n",
       "  'чуб',\n",
       "  'мне',\n",
       "  'покойный',\n",
       "  'шинкарь',\n",
       "  'зузуля',\n",
       "  'раз',\n",
       "  'привез',\n",
       "  'табаку',\n",
       "  'из',\n",
       "  'нежина',\n",
       "  'эх',\n",
       "  'табак',\n",
       "  'был',\n",
       "  'добрый',\n",
       "  'табак',\n",
       "  'был',\n",
       "  'так',\n",
       "  'что',\n",
       "  'же',\n",
       "  'кум',\n",
       "  'как',\n",
       "  'нам',\n",
       "  'быть',\n",
       "  'ведь',\n",
       "  'темно',\n",
       "  'на',\n",
       "  'дворе',\n",
       "  'так',\n",
       "  'пожалуй',\n",
       "  'останемся',\n",
       "  'дома',\n",
       "  'произнес',\n",
       "  'кум',\n",
       "  'ухватясь',\n",
       "  'за',\n",
       "  'ручку',\n",
       "  'двери',\n",
       "  'если',\n",
       "  'бы',\n",
       "  'кум',\n",
       "  'не',\n",
       "  'сказал',\n",
       "  'этого',\n",
       "  'то',\n",
       "  'чуб',\n",
       "  'верно',\n",
       "  'бы',\n",
       "  'решился',\n",
       "  'остаться',\n",
       "  'но',\n",
       "  'теперь',\n",
       "  'его',\n",
       "  'как',\n",
       "  'будто',\n",
       "  'чтото',\n",
       "  'дергало',\n",
       "  'идти',\n",
       "  'наперекор'],\n",
       " 4)"
      ]
     },
     "execution_count": 151,
     "metadata": {},
     "output_type": "execute_result"
    }
   ],
   "source": [
    "val_data[1]"
   ]
  },
  {
   "cell_type": "code",
   "execution_count": 152,
   "metadata": {},
   "outputs": [],
   "source": [
    "class SimpleRNN(nn.Module):\n",
    "    def __init__(self, hidden_dim, vocab_size, num_classes,\n",
    "        aggregation_type: str = 'last'):\n",
    "        super().__init__()\n",
    "        self.embedding = nn.Embedding(vocab_size, hidden_dim)\n",
    "        \n",
    "        self.rnn =  nn.GRU(hidden_dim,hidden_dim, batch_first = True, num_layers= 3, dropout=0.2)\n",
    "        \n",
    "        self.layer_norm = nn.LayerNorm(hidden_dim)\n",
    "        \n",
    "        self.fc1 = nn.Linear(hidden_dim, hidden_dim)\n",
    "        self.fc2 = nn.Linear(hidden_dim, num_classes)\n",
    "\n",
    "        self.dropout = nn.Dropout(p=0.2)\n",
    "\n",
    "        self.aggregation_type = aggregation_type\n",
    "    def forward(self, input_batch):\n",
    "        embeddings = self.embedding(input_batch)\n",
    "        output, _ = self.rnn(embeddings) \n",
    "\n",
    "        output = self.layer_norm(output)\n",
    "\n",
    "        if self.aggregation_type == 'max':\n",
    "            output = output.max(dim=1)[0]         #[batch_size, hidden_dim]\n",
    "        elif self.aggregation_type == 'mean':\n",
    "            output = output.mean(dim=1)           #[batch_size, hidden_dim]\n",
    "        elif self.aggregation_type == 'last':\n",
    "            output = output[:, -1, :]\n",
    "        else:\n",
    "            raise ValueError(\"Invalid aggregation_type\")\n",
    "\n",
    "        output = F.tanh(output)\n",
    "        output = F.tanh(self.dropout(self.fc1(output)))   # [batch_size, hidden_dim]\n",
    "        output = self.fc2(output)    \n",
    "\n",
    "        return output\n",
    "            \n",
    "\n"
   ]
  },
  {
   "cell_type": "code",
   "execution_count": 153,
   "metadata": {},
   "outputs": [],
   "source": [
    "def evaluate(model, dataloader):\n",
    "    \"\"\"\n",
    "    Calculate accuracy on data from dataloader.\n",
    "    \"\"\"\n",
    "\n",
    "    predictions = []\n",
    "    target = []\n",
    "    with torch.no_grad():\n",
    "        for batch in tqdm_notebook(dataloader,\n",
    "                                   desc=f'Evaluating'):\n",
    "            logits = model(batch['input_ids'])\n",
    "            predictions.append(logits.argmax(dim=1))\n",
    "            target.append(batch['label'])\n",
    "\n",
    "    predictions = torch.cat(predictions)\n",
    "    target = torch.cat(target)\n",
    "    accuracy = (predictions == target).float().mean().item()\n",
    "\n",
    "    return accuracy"
   ]
  },
  {
   "cell_type": "code",
   "execution_count": 154,
   "metadata": {},
   "outputs": [],
   "source": [
    "def train(model, optimizer, criterion, num_epoch, eval_steps):\n",
    "\n",
    "    losses = []\n",
    "    accs_train = []\n",
    "    accs_val = []\n",
    "\n",
    "    for epoch in range(num_epoch):\n",
    "        epoch_losses = []\n",
    "        model.train()\n",
    "        for i, batch in enumerate(tqdm_notebook(train_dataloader,\n",
    "                                                desc=f'Training epoch {epoch}:')):\n",
    "            optimizer.zero_grad()\n",
    "            logits = model(batch['input_ids'])\n",
    "            loss = criterion(logits, batch['label'])\n",
    "            loss.backward()\n",
    "            optimizer.step()\n",
    "\n",
    "            epoch_losses.append(loss.item())\n",
    "            if i % eval_steps == 0:\n",
    "                model.eval()\n",
    "                accs_train.append(evaluate(model, train_dataloader))\n",
    "                accs_val.append(evaluate(model, val_dataloader))\n",
    "                model.train()\n",
    "\n",
    "        losses.append(sum(epoch_losses) / len(epoch_losses))\n",
    "\n",
    "    return losses, accs_train, accs_val"
   ]
  },
  {
   "cell_type": "code",
   "execution_count": 155,
   "metadata": {},
   "outputs": [
    {
     "name": "stderr",
     "output_type": "stream",
     "text": [
      "/var/folders/q8/b2ly0p957ml1pzxty4q0cbyc0000gn/T/ipykernel_3710/277674689.py:10: TqdmDeprecationWarning: This function will be removed in tqdm==5.0.0\n",
      "Please use `tqdm.notebook.tqdm` instead of `tqdm.tqdm_notebook`\n",
      "  for i, batch in enumerate(tqdm_notebook(train_dataloader,\n"
     ]
    },
    {
     "data": {
      "application/vnd.jupyter.widget-view+json": {
       "model_id": "9b12f3eb80de45768dbee55b5b33a6b1",
       "version_major": 2,
       "version_minor": 0
      },
      "text/plain": [
       "Training epoch 0::   0%|          | 0/7 [00:00<?, ?it/s]"
      ]
     },
     "metadata": {},
     "output_type": "display_data"
    },
    {
     "name": "stderr",
     "output_type": "stream",
     "text": [
      "/var/folders/q8/b2ly0p957ml1pzxty4q0cbyc0000gn/T/ipykernel_3710/4154025148.py:9: TqdmDeprecationWarning: This function will be removed in tqdm==5.0.0\n",
      "Please use `tqdm.notebook.tqdm` instead of `tqdm.tqdm_notebook`\n",
      "  for batch in tqdm_notebook(dataloader,\n"
     ]
    },
    {
     "data": {
      "application/vnd.jupyter.widget-view+json": {
       "model_id": "476fd3a17ef94c99822d1ec4495f1a23",
       "version_major": 2,
       "version_minor": 0
      },
      "text/plain": [
       "Evaluating:   0%|          | 0/7 [00:00<?, ?it/s]"
      ]
     },
     "metadata": {},
     "output_type": "display_data"
    },
    {
     "data": {
      "application/vnd.jupyter.widget-view+json": {
       "model_id": "9000d2ef7fd449f3a5bcf3256c55f302",
       "version_major": 2,
       "version_minor": 0
      },
      "text/plain": [
       "Evaluating:   0%|          | 0/7 [00:00<?, ?it/s]"
      ]
     },
     "metadata": {},
     "output_type": "display_data"
    },
    {
     "data": {
      "application/vnd.jupyter.widget-view+json": {
       "model_id": "d8230ed0d9b7497287de27a7bf7a3241",
       "version_major": 2,
       "version_minor": 0
      },
      "text/plain": [
       "Evaluating:   0%|          | 0/7 [00:00<?, ?it/s]"
      ]
     },
     "metadata": {},
     "output_type": "display_data"
    },
    {
     "data": {
      "application/vnd.jupyter.widget-view+json": {
       "model_id": "b8dd2ef0b6bc42cab57ac75be543efa4",
       "version_major": 2,
       "version_minor": 0
      },
      "text/plain": [
       "Evaluating:   0%|          | 0/7 [00:00<?, ?it/s]"
      ]
     },
     "metadata": {},
     "output_type": "display_data"
    },
    {
     "data": {
      "application/vnd.jupyter.widget-view+json": {
       "model_id": "ea6b9b7f0a7346aeabb9eba435e7cf0a",
       "version_major": 2,
       "version_minor": 0
      },
      "text/plain": [
       "Evaluating:   0%|          | 0/7 [00:00<?, ?it/s]"
      ]
     },
     "metadata": {},
     "output_type": "display_data"
    },
    {
     "data": {
      "application/vnd.jupyter.widget-view+json": {
       "model_id": "b01e198324744d5a88d2169b23a07b1f",
       "version_major": 2,
       "version_minor": 0
      },
      "text/plain": [
       "Evaluating:   0%|          | 0/7 [00:00<?, ?it/s]"
      ]
     },
     "metadata": {},
     "output_type": "display_data"
    },
    {
     "data": {
      "application/vnd.jupyter.widget-view+json": {
       "model_id": "3fdb4a01e8794ba596dc8d3ed51f8e50",
       "version_major": 2,
       "version_minor": 0
      },
      "text/plain": [
       "Training epoch 1::   0%|          | 0/7 [00:00<?, ?it/s]"
      ]
     },
     "metadata": {},
     "output_type": "display_data"
    },
    {
     "data": {
      "application/vnd.jupyter.widget-view+json": {
       "model_id": "94ff0c79040840dc930045fc6ba73633",
       "version_major": 2,
       "version_minor": 0
      },
      "text/plain": [
       "Evaluating:   0%|          | 0/7 [00:00<?, ?it/s]"
      ]
     },
     "metadata": {},
     "output_type": "display_data"
    },
    {
     "data": {
      "application/vnd.jupyter.widget-view+json": {
       "model_id": "f1b79c1d2a41455f9424cc121761a58b",
       "version_major": 2,
       "version_minor": 0
      },
      "text/plain": [
       "Evaluating:   0%|          | 0/7 [00:00<?, ?it/s]"
      ]
     },
     "metadata": {},
     "output_type": "display_data"
    },
    {
     "data": {
      "application/vnd.jupyter.widget-view+json": {
       "model_id": "d5292e5847c1473a903d0335e3f55f73",
       "version_major": 2,
       "version_minor": 0
      },
      "text/plain": [
       "Evaluating:   0%|          | 0/7 [00:00<?, ?it/s]"
      ]
     },
     "metadata": {},
     "output_type": "display_data"
    },
    {
     "data": {
      "application/vnd.jupyter.widget-view+json": {
       "model_id": "8c10b436cb36446aae59b6e271cd87d6",
       "version_major": 2,
       "version_minor": 0
      },
      "text/plain": [
       "Evaluating:   0%|          | 0/7 [00:00<?, ?it/s]"
      ]
     },
     "metadata": {},
     "output_type": "display_data"
    },
    {
     "data": {
      "application/vnd.jupyter.widget-view+json": {
       "model_id": "b46db993d12d4c5584831483adbca9a2",
       "version_major": 2,
       "version_minor": 0
      },
      "text/plain": [
       "Evaluating:   0%|          | 0/7 [00:00<?, ?it/s]"
      ]
     },
     "metadata": {},
     "output_type": "display_data"
    },
    {
     "data": {
      "application/vnd.jupyter.widget-view+json": {
       "model_id": "cbb3f7cfbdfa48819890cc7eecaf4703",
       "version_major": 2,
       "version_minor": 0
      },
      "text/plain": [
       "Evaluating:   0%|          | 0/7 [00:00<?, ?it/s]"
      ]
     },
     "metadata": {},
     "output_type": "display_data"
    },
    {
     "data": {
      "application/vnd.jupyter.widget-view+json": {
       "model_id": "c3145f4049734ec795a419d9e095e406",
       "version_major": 2,
       "version_minor": 0
      },
      "text/plain": [
       "Training epoch 2::   0%|          | 0/7 [00:00<?, ?it/s]"
      ]
     },
     "metadata": {},
     "output_type": "display_data"
    },
    {
     "data": {
      "application/vnd.jupyter.widget-view+json": {
       "model_id": "4072209ee38746d2b1a7ce5d3210793f",
       "version_major": 2,
       "version_minor": 0
      },
      "text/plain": [
       "Evaluating:   0%|          | 0/7 [00:00<?, ?it/s]"
      ]
     },
     "metadata": {},
     "output_type": "display_data"
    },
    {
     "data": {
      "application/vnd.jupyter.widget-view+json": {
       "model_id": "76e335ed63a049598c329e235df0a9b7",
       "version_major": 2,
       "version_minor": 0
      },
      "text/plain": [
       "Evaluating:   0%|          | 0/7 [00:00<?, ?it/s]"
      ]
     },
     "metadata": {},
     "output_type": "display_data"
    },
    {
     "data": {
      "application/vnd.jupyter.widget-view+json": {
       "model_id": "8effb955ba0e42fa83be1331de1e4053",
       "version_major": 2,
       "version_minor": 0
      },
      "text/plain": [
       "Evaluating:   0%|          | 0/7 [00:00<?, ?it/s]"
      ]
     },
     "metadata": {},
     "output_type": "display_data"
    },
    {
     "data": {
      "application/vnd.jupyter.widget-view+json": {
       "model_id": "0df1e752dfa44ddf9ca7c53118420f0e",
       "version_major": 2,
       "version_minor": 0
      },
      "text/plain": [
       "Evaluating:   0%|          | 0/7 [00:00<?, ?it/s]"
      ]
     },
     "metadata": {},
     "output_type": "display_data"
    },
    {
     "data": {
      "application/vnd.jupyter.widget-view+json": {
       "model_id": "ddbfadacb5bd45f0b218b3cccce05a7b",
       "version_major": 2,
       "version_minor": 0
      },
      "text/plain": [
       "Evaluating:   0%|          | 0/7 [00:00<?, ?it/s]"
      ]
     },
     "metadata": {},
     "output_type": "display_data"
    },
    {
     "data": {
      "application/vnd.jupyter.widget-view+json": {
       "model_id": "2d5558366c554966b7754d244a726172",
       "version_major": 2,
       "version_minor": 0
      },
      "text/plain": [
       "Evaluating:   0%|          | 0/7 [00:00<?, ?it/s]"
      ]
     },
     "metadata": {},
     "output_type": "display_data"
    }
   ],
   "source": [
    "model = SimpleRNN(hidden_dim=256,\n",
    "                 vocab_size=len(vocab),\n",
    "                  num_classes=8,\n",
    "                  aggregation_type= 'mean'\n",
    "                  ).to(device)\n",
    "\n",
    "criterion = nn.CrossEntropyLoss(ignore_index=word2ind['<pad>'])\n",
    "optimizer = torch.optim.Adam(model.parameters())\n",
    "losses, accs_train, accs_val = train(model,\n",
    "                                     optimizer,\n",
    "                                     criterion,\n",
    "                                     num_epoch=3,\n",
    "                                     eval_steps=len(train_dataloader) // 2)\n",
    "\n"
   ]
  },
  {
   "cell_type": "code",
   "execution_count": 163,
   "metadata": {},
   "outputs": [
    {
     "name": "stderr",
     "output_type": "stream",
     "text": [
      "/var/folders/q8/b2ly0p957ml1pzxty4q0cbyc0000gn/T/ipykernel_3710/277674689.py:10: TqdmDeprecationWarning: This function will be removed in tqdm==5.0.0\n",
      "Please use `tqdm.notebook.tqdm` instead of `tqdm.tqdm_notebook`\n",
      "  for i, batch in enumerate(tqdm_notebook(train_dataloader,\n"
     ]
    },
    {
     "data": {
      "application/vnd.jupyter.widget-view+json": {
       "model_id": "61f1379e0b664316b8041abaf7d1450b",
       "version_major": 2,
       "version_minor": 0
      },
      "text/plain": [
       "Training epoch 0::   0%|          | 0/7 [00:00<?, ?it/s]"
      ]
     },
     "metadata": {},
     "output_type": "display_data"
    },
    {
     "name": "stderr",
     "output_type": "stream",
     "text": [
      "/var/folders/q8/b2ly0p957ml1pzxty4q0cbyc0000gn/T/ipykernel_3710/4154025148.py:9: TqdmDeprecationWarning: This function will be removed in tqdm==5.0.0\n",
      "Please use `tqdm.notebook.tqdm` instead of `tqdm.tqdm_notebook`\n",
      "  for batch in tqdm_notebook(dataloader,\n"
     ]
    },
    {
     "data": {
      "application/vnd.jupyter.widget-view+json": {
       "model_id": "57ef341adcc54263a6859dfba2ba75b4",
       "version_major": 2,
       "version_minor": 0
      },
      "text/plain": [
       "Evaluating:   0%|          | 0/7 [00:00<?, ?it/s]"
      ]
     },
     "metadata": {},
     "output_type": "display_data"
    },
    {
     "data": {
      "application/vnd.jupyter.widget-view+json": {
       "model_id": "547b32e3b25c4ad88c14f984372f0032",
       "version_major": 2,
       "version_minor": 0
      },
      "text/plain": [
       "Evaluating:   0%|          | 0/7 [00:00<?, ?it/s]"
      ]
     },
     "metadata": {},
     "output_type": "display_data"
    },
    {
     "data": {
      "application/vnd.jupyter.widget-view+json": {
       "model_id": "64158fa1cc5a45d58e4ea87a80100d31",
       "version_major": 2,
       "version_minor": 0
      },
      "text/plain": [
       "Evaluating:   0%|          | 0/7 [00:00<?, ?it/s]"
      ]
     },
     "metadata": {},
     "output_type": "display_data"
    },
    {
     "data": {
      "application/vnd.jupyter.widget-view+json": {
       "model_id": "7e64029dab9b41af8ed30e1412fa4efd",
       "version_major": 2,
       "version_minor": 0
      },
      "text/plain": [
       "Evaluating:   0%|          | 0/7 [00:00<?, ?it/s]"
      ]
     },
     "metadata": {},
     "output_type": "display_data"
    },
    {
     "data": {
      "application/vnd.jupyter.widget-view+json": {
       "model_id": "c45a6b60a82143b39b420b39c1488247",
       "version_major": 2,
       "version_minor": 0
      },
      "text/plain": [
       "Evaluating:   0%|          | 0/7 [00:00<?, ?it/s]"
      ]
     },
     "metadata": {},
     "output_type": "display_data"
    },
    {
     "data": {
      "application/vnd.jupyter.widget-view+json": {
       "model_id": "74f21a1ab4464956aa538ef904a6afd9",
       "version_major": 2,
       "version_minor": 0
      },
      "text/plain": [
       "Evaluating:   0%|          | 0/7 [00:00<?, ?it/s]"
      ]
     },
     "metadata": {},
     "output_type": "display_data"
    },
    {
     "data": {
      "application/vnd.jupyter.widget-view+json": {
       "model_id": "7abcfc5dd3f64463851441e7aac2b022",
       "version_major": 2,
       "version_minor": 0
      },
      "text/plain": [
       "Training epoch 1::   0%|          | 0/7 [00:00<?, ?it/s]"
      ]
     },
     "metadata": {},
     "output_type": "display_data"
    },
    {
     "data": {
      "application/vnd.jupyter.widget-view+json": {
       "model_id": "126b1225b35340798c693b4a0beea6e5",
       "version_major": 2,
       "version_minor": 0
      },
      "text/plain": [
       "Evaluating:   0%|          | 0/7 [00:00<?, ?it/s]"
      ]
     },
     "metadata": {},
     "output_type": "display_data"
    },
    {
     "data": {
      "application/vnd.jupyter.widget-view+json": {
       "model_id": "e4932159d9874b27bfd25bf6c41d8d1e",
       "version_major": 2,
       "version_minor": 0
      },
      "text/plain": [
       "Evaluating:   0%|          | 0/7 [00:00<?, ?it/s]"
      ]
     },
     "metadata": {},
     "output_type": "display_data"
    },
    {
     "data": {
      "application/vnd.jupyter.widget-view+json": {
       "model_id": "dd0fd2837d1b49da84886a7587943126",
       "version_major": 2,
       "version_minor": 0
      },
      "text/plain": [
       "Evaluating:   0%|          | 0/7 [00:00<?, ?it/s]"
      ]
     },
     "metadata": {},
     "output_type": "display_data"
    },
    {
     "data": {
      "application/vnd.jupyter.widget-view+json": {
       "model_id": "3acb7fc36c664deca97eef31e58b3296",
       "version_major": 2,
       "version_minor": 0
      },
      "text/plain": [
       "Evaluating:   0%|          | 0/7 [00:00<?, ?it/s]"
      ]
     },
     "metadata": {},
     "output_type": "display_data"
    },
    {
     "data": {
      "application/vnd.jupyter.widget-view+json": {
       "model_id": "aaa4be7cfcf14c94bc3eaeb496124cbe",
       "version_major": 2,
       "version_minor": 0
      },
      "text/plain": [
       "Evaluating:   0%|          | 0/7 [00:00<?, ?it/s]"
      ]
     },
     "metadata": {},
     "output_type": "display_data"
    },
    {
     "data": {
      "application/vnd.jupyter.widget-view+json": {
       "model_id": "838e1d27918a43f1967818f3b3627758",
       "version_major": 2,
       "version_minor": 0
      },
      "text/plain": [
       "Evaluating:   0%|          | 0/7 [00:00<?, ?it/s]"
      ]
     },
     "metadata": {},
     "output_type": "display_data"
    },
    {
     "data": {
      "application/vnd.jupyter.widget-view+json": {
       "model_id": "983984f4dfc84c51a6d71e988a2e9207",
       "version_major": 2,
       "version_minor": 0
      },
      "text/plain": [
       "Training epoch 2::   0%|          | 0/7 [00:00<?, ?it/s]"
      ]
     },
     "metadata": {},
     "output_type": "display_data"
    },
    {
     "data": {
      "application/vnd.jupyter.widget-view+json": {
       "model_id": "8f0cd68e42d145f8912150100f05e952",
       "version_major": 2,
       "version_minor": 0
      },
      "text/plain": [
       "Evaluating:   0%|          | 0/7 [00:00<?, ?it/s]"
      ]
     },
     "metadata": {},
     "output_type": "display_data"
    },
    {
     "data": {
      "application/vnd.jupyter.widget-view+json": {
       "model_id": "1b644a1bf90f4b5db806e637aeff4c8f",
       "version_major": 2,
       "version_minor": 0
      },
      "text/plain": [
       "Evaluating:   0%|          | 0/7 [00:00<?, ?it/s]"
      ]
     },
     "metadata": {},
     "output_type": "display_data"
    },
    {
     "data": {
      "application/vnd.jupyter.widget-view+json": {
       "model_id": "c0290910caa34a6191afcf07a032aefc",
       "version_major": 2,
       "version_minor": 0
      },
      "text/plain": [
       "Evaluating:   0%|          | 0/7 [00:00<?, ?it/s]"
      ]
     },
     "metadata": {},
     "output_type": "display_data"
    },
    {
     "data": {
      "application/vnd.jupyter.widget-view+json": {
       "model_id": "b9e0dc88b518441ea5d7371f757eba09",
       "version_major": 2,
       "version_minor": 0
      },
      "text/plain": [
       "Evaluating:   0%|          | 0/7 [00:00<?, ?it/s]"
      ]
     },
     "metadata": {},
     "output_type": "display_data"
    },
    {
     "data": {
      "application/vnd.jupyter.widget-view+json": {
       "model_id": "cdb3298ed4564ed9a42bb0db7537980d",
       "version_major": 2,
       "version_minor": 0
      },
      "text/plain": [
       "Evaluating:   0%|          | 0/7 [00:00<?, ?it/s]"
      ]
     },
     "metadata": {},
     "output_type": "display_data"
    },
    {
     "data": {
      "application/vnd.jupyter.widget-view+json": {
       "model_id": "cceea569ac3d4977b68bb2143ce23293",
       "version_major": 2,
       "version_minor": 0
      },
      "text/plain": [
       "Evaluating:   0%|          | 0/7 [00:00<?, ?it/s]"
      ]
     },
     "metadata": {},
     "output_type": "display_data"
    }
   ],
   "source": [
    "losses, accs_train, accs_val = train(model,\n",
    "                                     optimizer,\n",
    "                                     criterion,\n",
    "                                     num_epoch=3,\n",
    "                                     eval_steps=len(train_dataloader) // 2)\n"
   ]
  },
  {
   "cell_type": "code",
   "execution_count": 164,
   "metadata": {},
   "outputs": [
    {
     "data": {
      "image/png": "[encoded data removed]",
      "text/plain": [
       "<Figure size 640x480 with 1 Axes>"
      ]
     },
     "metadata": {},
     "output_type": "display_data"
    },
    {
     "data": {
      "image/png": "[encoded data removed]",
      "text/plain": [
       "<Figure size 640x480 with 1 Axes>"
      ]
     },
     "metadata": {},
     "output_type": "display_data"
    },
    {
     "data": {
      "image/png": "[encoded data removed]",
      "text/plain": [
       "<Figure size 640x480 with 1 Axes>"
      ]
     },
     "metadata": {},
     "output_type": "display_data"
    }
   ],
   "source": [
    "plt.style.use('ggplot')\n",
    "plt.plot(losses)\n",
    "plt.title('Losses')\n",
    "plt.legend(['max', 'mean', 'last'])\n",
    "plt.show()\n",
    "\n",
    "\n",
    "plt.plot(accs_train)\n",
    "plt.title('Train accs')\n",
    "plt.legend(['max', 'mean', 'last'])\n",
    "plt.show()\n",
    "\n",
    "plt.plot(accs_val)\n",
    "plt.title('Val accs')\n",
    "plt.legend(['max', 'mean', 'last'])\n",
    "plt.show()"
   ]
  },
  {
   "cell_type": "code",
   "execution_count": 165,
   "metadata": {},
   "outputs": [],
   "source": [
    "def get_predictions(model, dataloader):\n",
    "    \"\"\"\n",
    "    Calculate accuracy on data from dataloader.\n",
    "    \"\"\"\n",
    "\n",
    "    model.eval()\n",
    "    predictions = []\n",
    "    with torch.no_grad():\n",
    "        for batch in tqdm_notebook(dataloader,\n",
    "                                   desc=f'Evaluating'):\n",
    "            logits = model(batch['input_ids'])\n",
    "            predictions.append(logits.argmax(dim=1))\n",
    "\n",
    "    predictions = torch.cat(predictions).data.cpu().numpy()\n",
    "\n",
    "    return predictions"
   ]
  },
  {
   "cell_type": "code",
   "execution_count": 18,
   "metadata": {},
   "outputs": [
    {
     "ename": "KeyError",
     "evalue": "0",
     "output_type": "error",
     "traceback": [
      "\u001b[0;31m---------------------------------------------------------------------------\u001b[0m",
      "\u001b[0;31mKeyError\u001b[0m                                  Traceback (most recent call last)",
      "Cell \u001b[0;32mIn[18], line 1\u001b[0m\n\u001b[0;32m----> 1\u001b[0m \u001b[38;5;28;01mfor\u001b[39;00m batch \u001b[38;5;129;01min\u001b[39;00m val_dataloader:   \n\u001b[1;32m      2\u001b[0m     \u001b[38;5;28mprint\u001b[39m(batch)\n",
      "File \u001b[0;32m~/venvs/ML/lib/python3.10/site-packages/torch/utils/data/dataloader.py:701\u001b[0m, in \u001b[0;36m_BaseDataLoaderIter.__next__\u001b[0;34m(self)\u001b[0m\n\u001b[1;32m    698\u001b[0m \u001b[38;5;28;01mif\u001b[39;00m \u001b[38;5;28mself\u001b[39m\u001b[38;5;241m.\u001b[39m_sampler_iter \u001b[38;5;129;01mis\u001b[39;00m \u001b[38;5;28;01mNone\u001b[39;00m:\n\u001b[1;32m    699\u001b[0m     \u001b[38;5;66;03m# TODO(https://github.com/pytorch/pytorch/issues/76750)\u001b[39;00m\n\u001b[1;32m    700\u001b[0m     \u001b[38;5;28mself\u001b[39m\u001b[38;5;241m.\u001b[39m_reset()  \u001b[38;5;66;03m# type: ignore[call-arg]\u001b[39;00m\n\u001b[0;32m--> 701\u001b[0m data \u001b[38;5;241m=\u001b[39m \u001b[38;5;28;43mself\u001b[39;49m\u001b[38;5;241;43m.\u001b[39;49m\u001b[43m_next_data\u001b[49m\u001b[43m(\u001b[49m\u001b[43m)\u001b[49m\n\u001b[1;32m    702\u001b[0m \u001b[38;5;28mself\u001b[39m\u001b[38;5;241m.\u001b[39m_num_yielded \u001b[38;5;241m+\u001b[39m\u001b[38;5;241m=\u001b[39m \u001b[38;5;241m1\u001b[39m\n\u001b[1;32m    703\u001b[0m \u001b[38;5;28;01mif\u001b[39;00m (\n\u001b[1;32m    704\u001b[0m     \u001b[38;5;28mself\u001b[39m\u001b[38;5;241m.\u001b[39m_dataset_kind \u001b[38;5;241m==\u001b[39m _DatasetKind\u001b[38;5;241m.\u001b[39mIterable\n\u001b[1;32m    705\u001b[0m     \u001b[38;5;129;01mand\u001b[39;00m \u001b[38;5;28mself\u001b[39m\u001b[38;5;241m.\u001b[39m_IterableDataset_len_called \u001b[38;5;129;01mis\u001b[39;00m \u001b[38;5;129;01mnot\u001b[39;00m \u001b[38;5;28;01mNone\u001b[39;00m\n\u001b[1;32m    706\u001b[0m     \u001b[38;5;129;01mand\u001b[39;00m \u001b[38;5;28mself\u001b[39m\u001b[38;5;241m.\u001b[39m_num_yielded \u001b[38;5;241m>\u001b[39m \u001b[38;5;28mself\u001b[39m\u001b[38;5;241m.\u001b[39m_IterableDataset_len_called\n\u001b[1;32m    707\u001b[0m ):\n",
      "File \u001b[0;32m~/venvs/ML/lib/python3.10/site-packages/torch/utils/data/dataloader.py:757\u001b[0m, in \u001b[0;36m_SingleProcessDataLoaderIter._next_data\u001b[0;34m(self)\u001b[0m\n\u001b[1;32m    755\u001b[0m \u001b[38;5;28;01mdef\u001b[39;00m \u001b[38;5;21m_next_data\u001b[39m(\u001b[38;5;28mself\u001b[39m):\n\u001b[1;32m    756\u001b[0m     index \u001b[38;5;241m=\u001b[39m \u001b[38;5;28mself\u001b[39m\u001b[38;5;241m.\u001b[39m_next_index()  \u001b[38;5;66;03m# may raise StopIteration\u001b[39;00m\n\u001b[0;32m--> 757\u001b[0m     data \u001b[38;5;241m=\u001b[39m \u001b[38;5;28;43mself\u001b[39;49m\u001b[38;5;241;43m.\u001b[39;49m\u001b[43m_dataset_fetcher\u001b[49m\u001b[38;5;241;43m.\u001b[39;49m\u001b[43mfetch\u001b[49m\u001b[43m(\u001b[49m\u001b[43mindex\u001b[49m\u001b[43m)\u001b[49m  \u001b[38;5;66;03m# may raise StopIteration\u001b[39;00m\n\u001b[1;32m    758\u001b[0m     \u001b[38;5;28;01mif\u001b[39;00m \u001b[38;5;28mself\u001b[39m\u001b[38;5;241m.\u001b[39m_pin_memory:\n\u001b[1;32m    759\u001b[0m         data \u001b[38;5;241m=\u001b[39m _utils\u001b[38;5;241m.\u001b[39mpin_memory\u001b[38;5;241m.\u001b[39mpin_memory(data, \u001b[38;5;28mself\u001b[39m\u001b[38;5;241m.\u001b[39m_pin_memory_device)\n",
      "File \u001b[0;32m~/venvs/ML/lib/python3.10/site-packages/torch/utils/data/_utils/fetch.py:55\u001b[0m, in \u001b[0;36m_MapDatasetFetcher.fetch\u001b[0;34m(self, possibly_batched_index)\u001b[0m\n\u001b[1;32m     53\u001b[0m \u001b[38;5;28;01melse\u001b[39;00m:\n\u001b[1;32m     54\u001b[0m     data \u001b[38;5;241m=\u001b[39m \u001b[38;5;28mself\u001b[39m\u001b[38;5;241m.\u001b[39mdataset[possibly_batched_index]\n\u001b[0;32m---> 55\u001b[0m \u001b[38;5;28;01mreturn\u001b[39;00m \u001b[38;5;28;43mself\u001b[39;49m\u001b[38;5;241;43m.\u001b[39;49m\u001b[43mcollate_fn\u001b[49m\u001b[43m(\u001b[49m\u001b[43mdata\u001b[49m\u001b[43m)\u001b[49m\n",
      "Cell \u001b[0;32mIn[11], line 3\u001b[0m, in \u001b[0;36mcollate_fn_with_padding\u001b[0;34m(input_batch, max_len)\u001b[0m\n\u001b[1;32m      1\u001b[0m \u001b[38;5;28;01mdef\u001b[39;00m \u001b[38;5;21mcollate_fn_with_padding\u001b[39m(input_batch, max_len\u001b[38;5;241m=\u001b[39m\u001b[38;5;241m256\u001b[39m):\n\u001b[1;32m      2\u001b[0m     \u001b[38;5;66;03m# input_batch — батч пар (токенизированный текст, label)\u001b[39;00m\n\u001b[0;32m----> 3\u001b[0m     texts \u001b[38;5;241m=\u001b[39m [x[\u001b[38;5;241m0\u001b[39m] \u001b[38;5;28;01mfor\u001b[39;00m x \u001b[38;5;129;01min\u001b[39;00m input_batch]\n\u001b[1;32m      4\u001b[0m     labels \u001b[38;5;241m=\u001b[39m [x[\u001b[38;5;241m1\u001b[39m] \u001b[38;5;28;01mfor\u001b[39;00m x \u001b[38;5;129;01min\u001b[39;00m input_batch]\n\u001b[1;32m      5\u001b[0m     \u001b[38;5;66;03m# для каждого элемента батча получаем длину токенизированного текста в токенах\u001b[39;00m\n",
      "Cell \u001b[0;32mIn[11], line 3\u001b[0m, in \u001b[0;36m<listcomp>\u001b[0;34m(.0)\u001b[0m\n\u001b[1;32m      1\u001b[0m \u001b[38;5;28;01mdef\u001b[39;00m \u001b[38;5;21mcollate_fn_with_padding\u001b[39m(input_batch, max_len\u001b[38;5;241m=\u001b[39m\u001b[38;5;241m256\u001b[39m):\n\u001b[1;32m      2\u001b[0m     \u001b[38;5;66;03m# input_batch — батч пар (токенизированный текст, label)\u001b[39;00m\n\u001b[0;32m----> 3\u001b[0m     texts \u001b[38;5;241m=\u001b[39m [\u001b[43mx\u001b[49m\u001b[43m[\u001b[49m\u001b[38;5;241;43m0\u001b[39;49m\u001b[43m]\u001b[49m \u001b[38;5;28;01mfor\u001b[39;00m x \u001b[38;5;129;01min\u001b[39;00m input_batch]\n\u001b[1;32m      4\u001b[0m     labels \u001b[38;5;241m=\u001b[39m [x[\u001b[38;5;241m1\u001b[39m] \u001b[38;5;28;01mfor\u001b[39;00m x \u001b[38;5;129;01min\u001b[39;00m input_batch]\n\u001b[1;32m      5\u001b[0m     \u001b[38;5;66;03m# для каждого элемента батча получаем длину токенизированного текста в токенах\u001b[39;00m\n",
      "\u001b[0;31mKeyError\u001b[0m: 0"
     ]
    }
   ],
   "source": [
    "for batch in val_dataloader:   \n",
    "    print(batch)\n"
   ]
  },
  {
   "cell_type": "code",
   "execution_count": 132,
   "metadata": {},
   "outputs": [
    {
     "data": {
      "text/plain": [
       "[]"
      ]
     },
     "execution_count": 132,
     "metadata": {},
     "output_type": "execute_result"
    }
   ],
   "source": [
    "test_data\n"
   ]
  },
  {
   "cell_type": "code",
   "execution_count": 166,
   "metadata": {},
   "outputs": [
    {
     "name": "stderr",
     "output_type": "stream",
     "text": [
      "/var/folders/q8/b2ly0p957ml1pzxty4q0cbyc0000gn/T/ipykernel_3710/3324781086.py:9: TqdmDeprecationWarning: This function will be removed in tqdm==5.0.0\n",
      "Please use `tqdm.notebook.tqdm` instead of `tqdm.tqdm_notebook`\n",
      "  for batch in tqdm_notebook(dataloader,\n"
     ]
    },
    {
     "data": {
      "application/vnd.jupyter.widget-view+json": {
       "model_id": "71be81ce4bf349e19bf413c4a73f8531",
       "version_major": 2,
       "version_minor": 0
      },
      "text/plain": [
       "Evaluating:   0%|          | 0/3 [00:00<?, ?it/s]"
      ]
     },
     "metadata": {},
     "output_type": "display_data"
    },
    {
     "data": {
      "text/plain": [
       "['Bulychev',\n",
       " 'Dostoevsky',\n",
       " 'Akunin',\n",
       " 'Bulychev',\n",
       " 'Pratchett',\n",
       " 'Pratchett',\n",
       " 'Pratchett',\n",
       " 'Pratchett',\n",
       " 'Chehov',\n",
       " 'King',\n",
       " 'Akunin',\n",
       " 'Akunin',\n",
       " 'Chehov',\n",
       " 'Gogol',\n",
       " 'Bulychev',\n",
       " 'Pratchett',\n",
       " 'Pratchett',\n",
       " 'Akunin',\n",
       " 'Akunin',\n",
       " 'Akunin',\n",
       " 'Akunin',\n",
       " 'Bulychev',\n",
       " 'Akunin',\n",
       " 'Akunin',\n",
       " 'Akunin',\n",
       " 'Bulychev',\n",
       " 'Akunin',\n",
       " 'King',\n",
       " 'Dostoevsky',\n",
       " 'King',\n",
       " 'Akunin',\n",
       " 'Pratchett',\n",
       " 'Akunin',\n",
       " 'King',\n",
       " 'Pratchett',\n",
       " 'Bulychev',\n",
       " 'Akunin',\n",
       " 'King',\n",
       " 'Dostoevsky',\n",
       " 'Remark',\n",
       " 'King',\n",
       " 'King',\n",
       " 'Pratchett',\n",
       " 'King',\n",
       " 'Remark',\n",
       " 'King',\n",
       " 'Akunin',\n",
       " 'Pratchett',\n",
       " 'Akunin',\n",
       " 'Akunin',\n",
       " 'Pratchett',\n",
       " 'King',\n",
       " 'Pratchett',\n",
       " 'Akunin',\n",
       " 'Chehov',\n",
       " 'Bulychev',\n",
       " 'King',\n",
       " 'Akunin',\n",
       " 'Akunin',\n",
       " 'Akunin',\n",
       " 'Akunin',\n",
       " 'Akunin',\n",
       " 'Akunin',\n",
       " 'Bulychev',\n",
       " 'King',\n",
       " 'Akunin',\n",
       " 'Pratchett',\n",
       " 'Pratchett',\n",
       " 'King',\n",
       " 'Akunin',\n",
       " 'Akunin',\n",
       " 'Chehov',\n",
       " 'Dostoevsky',\n",
       " 'Bulychev',\n",
       " 'King',\n",
       " 'Akunin',\n",
       " 'Pratchett',\n",
       " 'King',\n",
       " 'Pratchett',\n",
       " 'Remark',\n",
       " 'Bulychev',\n",
       " 'Akunin',\n",
       " 'Akunin',\n",
       " 'Akunin',\n",
       " 'Gogol',\n",
       " 'Bulychev',\n",
       " 'Chehov',\n",
       " 'Akunin',\n",
       " 'Chehov',\n",
       " 'Akunin',\n",
       " 'Bulychev',\n",
       " 'King',\n",
       " 'Akunin',\n",
       " 'Pratchett',\n",
       " 'King',\n",
       " 'Remark',\n",
       " 'Gogol',\n",
       " 'King',\n",
       " 'Bulychev',\n",
       " 'Bulychev',\n",
       " 'Chehov',\n",
       " 'Bulychev',\n",
       " 'Akunin',\n",
       " 'King',\n",
       " 'Remark',\n",
       " 'Akunin',\n",
       " 'Gogol',\n",
       " 'Chehov',\n",
       " 'King',\n",
       " 'Akunin',\n",
       " 'Pratchett',\n",
       " 'Pratchett',\n",
       " 'Pratchett',\n",
       " 'Akunin',\n",
       " 'Chehov',\n",
       " 'Akunin',\n",
       " 'Bulychev',\n",
       " 'Akunin',\n",
       " 'Pratchett',\n",
       " 'Gogol',\n",
       " 'Pratchett',\n",
       " 'Remark',\n",
       " 'Akunin',\n",
       " 'Remark',\n",
       " 'Chehov',\n",
       " 'Chehov',\n",
       " 'King',\n",
       " 'King',\n",
       " 'Chehov',\n",
       " 'Pratchett',\n",
       " 'Pratchett',\n",
       " 'King',\n",
       " 'Chehov',\n",
       " 'Remark',\n",
       " 'Pratchett',\n",
       " 'King',\n",
       " 'Chehov',\n",
       " 'Akunin',\n",
       " 'Pratchett',\n",
       " 'Akunin',\n",
       " 'King',\n",
       " 'Remark',\n",
       " 'Pratchett',\n",
       " 'King',\n",
       " 'Bulychev',\n",
       " 'Akunin',\n",
       " 'Akunin',\n",
       " 'Akunin',\n",
       " 'Bulychev',\n",
       " 'Pratchett',\n",
       " 'Bulychev',\n",
       " 'Gogol',\n",
       " 'King',\n",
       " 'Remark',\n",
       " 'Bulychev',\n",
       " 'Dostoevsky',\n",
       " 'King',\n",
       " 'Remark',\n",
       " 'Bulychev',\n",
       " 'Bulychev',\n",
       " 'King',\n",
       " 'Bulychev',\n",
       " 'Bulychev',\n",
       " 'Akunin',\n",
       " 'Remark',\n",
       " 'Pratchett',\n",
       " 'Chehov',\n",
       " 'Akunin',\n",
       " 'Pratchett',\n",
       " 'Bulychev',\n",
       " 'Akunin',\n",
       " 'Gogol',\n",
       " 'Pratchett',\n",
       " 'Remark',\n",
       " 'Gogol',\n",
       " 'King',\n",
       " 'Akunin',\n",
       " 'King',\n",
       " 'Bulychev',\n",
       " 'King',\n",
       " 'Akunin',\n",
       " 'Pratchett',\n",
       " 'Remark',\n",
       " 'Akunin',\n",
       " 'Pratchett',\n",
       " 'King',\n",
       " 'King',\n",
       " 'Pratchett',\n",
       " 'Akunin',\n",
       " 'Pratchett',\n",
       " 'Gogol',\n",
       " 'Pratchett',\n",
       " 'King',\n",
       " 'Akunin',\n",
       " 'Pratchett',\n",
       " 'King',\n",
       " 'Chehov',\n",
       " 'King',\n",
       " 'Chehov',\n",
       " 'Akunin',\n",
       " 'Gogol',\n",
       " 'Bulychev',\n",
       " 'Akunin',\n",
       " 'Akunin',\n",
       " 'King',\n",
       " 'King',\n",
       " 'Bulychev',\n",
       " 'Akunin',\n",
       " 'Pratchett',\n",
       " 'Pratchett',\n",
       " 'Pratchett',\n",
       " 'King',\n",
       " 'Pratchett',\n",
       " 'Pratchett',\n",
       " 'Pratchett',\n",
       " 'Remark',\n",
       " 'Akunin',\n",
       " 'Bulychev',\n",
       " 'King',\n",
       " 'Akunin',\n",
       " 'Pratchett',\n",
       " 'King',\n",
       " 'Akunin',\n",
       " 'Bulychev',\n",
       " 'King',\n",
       " 'King',\n",
       " 'Bulychev',\n",
       " 'Akunin',\n",
       " 'Remark',\n",
       " 'King',\n",
       " 'Akunin',\n",
       " 'Gogol',\n",
       " 'Bulychev',\n",
       " 'Pratchett',\n",
       " 'Akunin',\n",
       " 'Bulychev',\n",
       " 'Akunin',\n",
       " 'Pratchett',\n",
       " 'Pratchett',\n",
       " 'King',\n",
       " 'King',\n",
       " 'Dostoevsky',\n",
       " 'Gogol',\n",
       " 'Akunin',\n",
       " 'Bulychev',\n",
       " 'Akunin',\n",
       " 'Remark',\n",
       " 'Pratchett',\n",
       " 'Chehov',\n",
       " 'Akunin',\n",
       " 'Chehov',\n",
       " 'Akunin',\n",
       " 'King',\n",
       " 'King',\n",
       " 'Gogol',\n",
       " 'Chehov',\n",
       " 'Chehov',\n",
       " 'Pratchett',\n",
       " 'Bulychev',\n",
       " 'King',\n",
       " 'Remark',\n",
       " 'Bulychev',\n",
       " 'Akunin',\n",
       " 'Akunin',\n",
       " 'King',\n",
       " 'Bulychev',\n",
       " 'King',\n",
       " 'Pratchett',\n",
       " 'King',\n",
       " 'Dostoevsky',\n",
       " 'Chehov',\n",
       " 'Akunin',\n",
       " 'King',\n",
       " 'Akunin',\n",
       " 'King',\n",
       " 'King',\n",
       " 'King',\n",
       " 'Akunin',\n",
       " 'Bulychev',\n",
       " 'Akunin',\n",
       " 'King',\n",
       " 'Akunin',\n",
       " 'Chehov',\n",
       " 'Akunin',\n",
       " 'King',\n",
       " 'Chehov',\n",
       " 'Gogol',\n",
       " 'Akunin',\n",
       " 'Akunin',\n",
       " 'Pratchett',\n",
       " 'King',\n",
       " 'Akunin',\n",
       " 'Pratchett',\n",
       " 'Akunin',\n",
       " 'Pratchett',\n",
       " 'Akunin',\n",
       " 'Gogol',\n",
       " 'Chehov',\n",
       " 'Bulychev',\n",
       " 'Remark',\n",
       " 'Akunin',\n",
       " 'Akunin',\n",
       " 'King',\n",
       " 'Bulychev',\n",
       " 'Chehov',\n",
       " 'Bulychev',\n",
       " 'Pratchett',\n",
       " 'Akunin',\n",
       " 'Bulychev',\n",
       " 'Chehov',\n",
       " 'Akunin',\n",
       " 'Akunin',\n",
       " 'Akunin',\n",
       " 'Gogol',\n",
       " 'Akunin',\n",
       " 'Pratchett',\n",
       " 'Akunin',\n",
       " 'Bulychev',\n",
       " 'Akunin',\n",
       " 'King',\n",
       " 'Gogol',\n",
       " 'Akunin',\n",
       " 'Pratchett',\n",
       " 'Gogol',\n",
       " 'Bulychev',\n",
       " 'Akunin',\n",
       " 'King',\n",
       " 'Remark',\n",
       " 'Akunin',\n",
       " 'Bulychev']"
      ]
     },
     "execution_count": 166,
     "metadata": {},
     "output_type": "execute_result"
    }
   ],
   "source": [
    "predictions = get_predictions(model, test_dataloader)\n",
    "predictions = [label_to_writers[x] for x in predictions]\n",
    "predictions"
   ]
  },
  {
   "cell_type": "code",
   "execution_count": 167,
   "metadata": {},
   "outputs": [
    {
     "name": "stdout",
     "output_type": "stream",
     "text": [
      "Ответ сохранен в файл `submission_hw07.npy`\n"
     ]
    }
   ],
   "source": [
    "np.save('submission_hw07.npy', predictions, allow_pickle=True)\n",
    "print('Ответ сохранен в файл `submission_hw07.npy`')"
   ]
  },
  {
   "cell_type": "code",
   "execution_count": null,
   "metadata": {},
   "outputs": [
    {
     "name": "stdout",
     "output_type": "stream",
     "text": [
      "Starting training for max\n"
     ]
    },
    {
     "name": "stderr",
     "output_type": "stream",
     "text": [
      "/var/folders/q8/b2ly0p957ml1pzxty4q0cbyc0000gn/T/ipykernel_2779/277674689.py:10: TqdmDeprecationWarning: This function will be removed in tqdm==5.0.0\n",
      "Please use `tqdm.notebook.tqdm` instead of `tqdm.tqdm_notebook`\n",
      "  for i, batch in enumerate(tqdm_notebook(train_dataloader,\n"
     ]
    },
    {
     "data": {
      "application/vnd.jupyter.widget-view+json": {
       "model_id": "d08ac32231264b0ca444760a2f9d5889",
       "version_major": 2,
       "version_minor": 0
      },
      "text/plain": [
       "Training epoch 0::   0%|          | 0/14 [00:00<?, ?it/s]"
      ]
     },
     "metadata": {},
     "output_type": "display_data"
    },
    {
     "name": "stderr",
     "output_type": "stream",
     "text": [
      "/var/folders/q8/b2ly0p957ml1pzxty4q0cbyc0000gn/T/ipykernel_2779/4154025148.py:9: TqdmDeprecationWarning: This function will be removed in tqdm==5.0.0\n",
      "Please use `tqdm.notebook.tqdm` instead of `tqdm.tqdm_notebook`\n",
      "  for batch in tqdm_notebook(dataloader,\n"
     ]
    },
    {
     "data": {
      "application/vnd.jupyter.widget-view+json": {
       "model_id": "1cfbc1cba16c44c0a8b20bbefa234196",
       "version_major": 2,
       "version_minor": 0
      },
      "text/plain": [
       "Evaluating:   0%|          | 0/14 [00:00<?, ?it/s]"
      ]
     },
     "metadata": {},
     "output_type": "display_data"
    },
    {
     "data": {
      "application/vnd.jupyter.widget-view+json": {
       "model_id": "9c311c4b96034815aa822f7e528b7370",
       "version_major": 2,
       "version_minor": 0
      },
      "text/plain": [
       "Evaluating:   0%|          | 0/79 [00:00<?, ?it/s]"
      ]
     },
     "metadata": {},
     "output_type": "display_data"
    },
    {
     "data": {
      "application/vnd.jupyter.widget-view+json": {
       "model_id": "a376563670bd4242b9b3bcaa3bdf54fd",
       "version_major": 2,
       "version_minor": 0
      },
      "text/plain": [
       "Evaluating:   0%|          | 0/14 [00:00<?, ?it/s]"
      ]
     },
     "metadata": {},
     "output_type": "display_data"
    },
    {
     "data": {
      "application/vnd.jupyter.widget-view+json": {
       "model_id": "84a2ff6ed9534c769cf48bead5dd99c5",
       "version_major": 2,
       "version_minor": 0
      },
      "text/plain": [
       "Evaluating:   0%|          | 0/79 [00:00<?, ?it/s]"
      ]
     },
     "metadata": {},
     "output_type": "display_data"
    },
    {
     "data": {
      "application/vnd.jupyter.widget-view+json": {
       "model_id": "c16e8a8527d84464a8daeea126bd693e",
       "version_major": 2,
       "version_minor": 0
      },
      "text/plain": [
       "Training epoch 1::   0%|          | 0/14 [00:00<?, ?it/s]"
      ]
     },
     "metadata": {},
     "output_type": "display_data"
    },
    {
     "data": {
      "application/vnd.jupyter.widget-view+json": {
       "model_id": "300e78c2dafe4d42a00a320f11538fee",
       "version_major": 2,
       "version_minor": 0
      },
      "text/plain": [
       "Evaluating:   0%|          | 0/14 [00:00<?, ?it/s]"
      ]
     },
     "metadata": {},
     "output_type": "display_data"
    },
    {
     "data": {
      "application/vnd.jupyter.widget-view+json": {
       "model_id": "5541fec47cf9462c92dc78057861cc51",
       "version_major": 2,
       "version_minor": 0
      },
      "text/plain": [
       "Evaluating:   0%|          | 0/79 [00:00<?, ?it/s]"
      ]
     },
     "metadata": {},
     "output_type": "display_data"
    },
    {
     "data": {
      "application/vnd.jupyter.widget-view+json": {
       "model_id": "447a5993e44e45f8804c3cf522b818bb",
       "version_major": 2,
       "version_minor": 0
      },
      "text/plain": [
       "Evaluating:   0%|          | 0/14 [00:00<?, ?it/s]"
      ]
     },
     "metadata": {},
     "output_type": "display_data"
    },
    {
     "data": {
      "application/vnd.jupyter.widget-view+json": {
       "model_id": "1cf6e5ec69a046c9b18c0202cf2a7e95",
       "version_major": 2,
       "version_minor": 0
      },
      "text/plain": [
       "Evaluating:   0%|          | 0/79 [00:00<?, ?it/s]"
      ]
     },
     "metadata": {},
     "output_type": "display_data"
    },
    {
     "data": {
      "application/vnd.jupyter.widget-view+json": {
       "model_id": "a2f4c81a577142efbb4694b7f38eb961",
       "version_major": 2,
       "version_minor": 0
      },
      "text/plain": [
       "Training epoch 2::   0%|          | 0/14 [00:00<?, ?it/s]"
      ]
     },
     "metadata": {},
     "output_type": "display_data"
    },
    {
     "data": {
      "application/vnd.jupyter.widget-view+json": {
       "model_id": "2083f15964a54fa888b27b00753c22fd",
       "version_major": 2,
       "version_minor": 0
      },
      "text/plain": [
       "Evaluating:   0%|          | 0/14 [00:00<?, ?it/s]"
      ]
     },
     "metadata": {},
     "output_type": "display_data"
    },
    {
     "data": {
      "application/vnd.jupyter.widget-view+json": {
       "model_id": "d3dd386d7a8f41aca4434453597a305d",
       "version_major": 2,
       "version_minor": 0
      },
      "text/plain": [
       "Evaluating:   0%|          | 0/79 [00:00<?, ?it/s]"
      ]
     },
     "metadata": {},
     "output_type": "display_data"
    },
    {
     "data": {
      "application/vnd.jupyter.widget-view+json": {
       "model_id": "1d3381db639c4d7fbaebd8e043682a62",
       "version_major": 2,
       "version_minor": 0
      },
      "text/plain": [
       "Evaluating:   0%|          | 0/14 [00:00<?, ?it/s]"
      ]
     },
     "metadata": {},
     "output_type": "display_data"
    },
    {
     "data": {
      "application/vnd.jupyter.widget-view+json": {
       "model_id": "2c6ccc959ccc4d0fac1c508f4499b3cc",
       "version_major": 2,
       "version_minor": 0
      },
      "text/plain": [
       "Evaluating:   0%|          | 0/79 [00:00<?, ?it/s]"
      ]
     },
     "metadata": {},
     "output_type": "display_data"
    },
    {
     "name": "stdout",
     "output_type": "stream",
     "text": [
      "Starting training for mean\n"
     ]
    },
    {
     "data": {
      "application/vnd.jupyter.widget-view+json": {
       "model_id": "604f4ae9e7f1413f99519077a4a02a45",
       "version_major": 2,
       "version_minor": 0
      },
      "text/plain": [
       "Training epoch 0::   0%|          | 0/14 [00:00<?, ?it/s]"
      ]
     },
     "metadata": {},
     "output_type": "display_data"
    },
    {
     "data": {
      "application/vnd.jupyter.widget-view+json": {
       "model_id": "4370652bc04f4ed3b61f529ff2082308",
       "version_major": 2,
       "version_minor": 0
      },
      "text/plain": [
       "Evaluating:   0%|          | 0/14 [00:00<?, ?it/s]"
      ]
     },
     "metadata": {},
     "output_type": "display_data"
    },
    {
     "data": {
      "application/vnd.jupyter.widget-view+json": {
       "model_id": "e44a697823ac4c25a6aec2795e7bdca4",
       "version_major": 2,
       "version_minor": 0
      },
      "text/plain": [
       "Evaluating:   0%|          | 0/79 [00:00<?, ?it/s]"
      ]
     },
     "metadata": {},
     "output_type": "display_data"
    },
    {
     "data": {
      "application/vnd.jupyter.widget-view+json": {
       "model_id": "be14aa59bf2e4ba5ab15a2047ab7191c",
       "version_major": 2,
       "version_minor": 0
      },
      "text/plain": [
       "Evaluating:   0%|          | 0/14 [00:00<?, ?it/s]"
      ]
     },
     "metadata": {},
     "output_type": "display_data"
    },
    {
     "data": {
      "application/vnd.jupyter.widget-view+json": {
       "model_id": "692f73dc58d543df97bb4d584a8ee105",
       "version_major": 2,
       "version_minor": 0
      },
      "text/plain": [
       "Evaluating:   0%|          | 0/79 [00:00<?, ?it/s]"
      ]
     },
     "metadata": {},
     "output_type": "display_data"
    },
    {
     "data": {
      "application/vnd.jupyter.widget-view+json": {
       "model_id": "aab64689e6cd45adbb614632be8065ea",
       "version_major": 2,
       "version_minor": 0
      },
      "text/plain": [
       "Training epoch 1::   0%|          | 0/14 [00:00<?, ?it/s]"
      ]
     },
     "metadata": {},
     "output_type": "display_data"
    },
    {
     "data": {
      "application/vnd.jupyter.widget-view+json": {
       "model_id": "13aa6951121847349ed8bc65fb972685",
       "version_major": 2,
       "version_minor": 0
      },
      "text/plain": [
       "Evaluating:   0%|          | 0/14 [00:00<?, ?it/s]"
      ]
     },
     "metadata": {},
     "output_type": "display_data"
    },
    {
     "data": {
      "application/vnd.jupyter.widget-view+json": {
       "model_id": "84edaefb49de4110821bfe5ad7677dbc",
       "version_major": 2,
       "version_minor": 0
      },
      "text/plain": [
       "Evaluating:   0%|          | 0/79 [00:00<?, ?it/s]"
      ]
     },
     "metadata": {},
     "output_type": "display_data"
    },
    {
     "data": {
      "application/vnd.jupyter.widget-view+json": {
       "model_id": "2b55a573f58347b3a63d65a7777dc77f",
       "version_major": 2,
       "version_minor": 0
      },
      "text/plain": [
       "Evaluating:   0%|          | 0/14 [00:00<?, ?it/s]"
      ]
     },
     "metadata": {},
     "output_type": "display_data"
    },
    {
     "data": {
      "application/vnd.jupyter.widget-view+json": {
       "model_id": "b2a19e74b670435f95608ae9d89c7c00",
       "version_major": 2,
       "version_minor": 0
      },
      "text/plain": [
       "Evaluating:   0%|          | 0/79 [00:00<?, ?it/s]"
      ]
     },
     "metadata": {},
     "output_type": "display_data"
    },
    {
     "data": {
      "application/vnd.jupyter.widget-view+json": {
       "model_id": "4afddd8027334c698000deb92ca65521",
       "version_major": 2,
       "version_minor": 0
      },
      "text/plain": [
       "Training epoch 2::   0%|          | 0/14 [00:00<?, ?it/s]"
      ]
     },
     "metadata": {},
     "output_type": "display_data"
    },
    {
     "data": {
      "application/vnd.jupyter.widget-view+json": {
       "model_id": "bae1885a37164f4eb992813dfd77101b",
       "version_major": 2,
       "version_minor": 0
      },
      "text/plain": [
       "Evaluating:   0%|          | 0/14 [00:00<?, ?it/s]"
      ]
     },
     "metadata": {},
     "output_type": "display_data"
    },
    {
     "data": {
      "application/vnd.jupyter.widget-view+json": {
       "model_id": "9c3b3dab3b88418f8e06c2c421c2452b",
       "version_major": 2,
       "version_minor": 0
      },
      "text/plain": [
       "Evaluating:   0%|          | 0/79 [00:00<?, ?it/s]"
      ]
     },
     "metadata": {},
     "output_type": "display_data"
    },
    {
     "data": {
      "application/vnd.jupyter.widget-view+json": {
       "model_id": "48fecb2f3a984ee6b97f308f596690aa",
       "version_major": 2,
       "version_minor": 0
      },
      "text/plain": [
       "Evaluating:   0%|          | 0/14 [00:00<?, ?it/s]"
      ]
     },
     "metadata": {},
     "output_type": "display_data"
    },
    {
     "data": {
      "application/vnd.jupyter.widget-view+json": {
       "model_id": "038acfa342474f7b8012e45d0d37a3d9",
       "version_major": 2,
       "version_minor": 0
      },
      "text/plain": [
       "Evaluating:   0%|          | 0/79 [00:00<?, ?it/s]"
      ]
     },
     "metadata": {},
     "output_type": "display_data"
    },
    {
     "name": "stdout",
     "output_type": "stream",
     "text": [
      "Starting training for last\n"
     ]
    },
    {
     "data": {
      "application/vnd.jupyter.widget-view+json": {
       "model_id": "39f4591a4fb54b5ab82f303eee680abd",
       "version_major": 2,
       "version_minor": 0
      },
      "text/plain": [
       "Training epoch 0::   0%|          | 0/14 [00:00<?, ?it/s]"
      ]
     },
     "metadata": {},
     "output_type": "display_data"
    },
    {
     "data": {
      "application/vnd.jupyter.widget-view+json": {
       "model_id": "fec1326fe6314f15af1d4c68d86394ae",
       "version_major": 2,
       "version_minor": 0
      },
      "text/plain": [
       "Evaluating:   0%|          | 0/14 [00:00<?, ?it/s]"
      ]
     },
     "metadata": {},
     "output_type": "display_data"
    },
    {
     "data": {
      "application/vnd.jupyter.widget-view+json": {
       "model_id": "a1e71a74be9a4e8c92688c66999c083a",
       "version_major": 2,
       "version_minor": 0
      },
      "text/plain": [
       "Evaluating:   0%|          | 0/79 [00:00<?, ?it/s]"
      ]
     },
     "metadata": {},
     "output_type": "display_data"
    },
    {
     "data": {
      "application/vnd.jupyter.widget-view+json": {
       "model_id": "806dd2c3e9244ccab38cc562451d5bd3",
       "version_major": 2,
       "version_minor": 0
      },
      "text/plain": [
       "Evaluating:   0%|          | 0/14 [00:00<?, ?it/s]"
      ]
     },
     "metadata": {},
     "output_type": "display_data"
    },
    {
     "data": {
      "application/vnd.jupyter.widget-view+json": {
       "model_id": "58e7f68461174f6aaad39441083d1f3a",
       "version_major": 2,
       "version_minor": 0
      },
      "text/plain": [
       "Evaluating:   0%|          | 0/79 [00:00<?, ?it/s]"
      ]
     },
     "metadata": {},
     "output_type": "display_data"
    },
    {
     "data": {
      "application/vnd.jupyter.widget-view+json": {
       "model_id": "0bd3f05cfdbd46d49d309f27d31bc3c4",
       "version_major": 2,
       "version_minor": 0
      },
      "text/plain": [
       "Training epoch 1::   0%|          | 0/14 [00:00<?, ?it/s]"
      ]
     },
     "metadata": {},
     "output_type": "display_data"
    },
    {
     "data": {
      "application/vnd.jupyter.widget-view+json": {
       "model_id": "9f054fe893ad4f9eb3fc90e95b6510b8",
       "version_major": 2,
       "version_minor": 0
      },
      "text/plain": [
       "Evaluating:   0%|          | 0/14 [00:00<?, ?it/s]"
      ]
     },
     "metadata": {},
     "output_type": "display_data"
    },
    {
     "data": {
      "application/vnd.jupyter.widget-view+json": {
       "model_id": "a0bb8a0bed084e4ab1f77a71c6052691",
       "version_major": 2,
       "version_minor": 0
      },
      "text/plain": [
       "Evaluating:   0%|          | 0/79 [00:00<?, ?it/s]"
      ]
     },
     "metadata": {},
     "output_type": "display_data"
    },
    {
     "data": {
      "application/vnd.jupyter.widget-view+json": {
       "model_id": "85776ea6366f4e188a790f42e419f9db",
       "version_major": 2,
       "version_minor": 0
      },
      "text/plain": [
       "Evaluating:   0%|          | 0/14 [00:00<?, ?it/s]"
      ]
     },
     "metadata": {},
     "output_type": "display_data"
    },
    {
     "data": {
      "application/vnd.jupyter.widget-view+json": {
       "model_id": "d7c6dab0ce2f4a93bdbc29065e9289f6",
       "version_major": 2,
       "version_minor": 0
      },
      "text/plain": [
       "Evaluating:   0%|          | 0/79 [00:00<?, ?it/s]"
      ]
     },
     "metadata": {},
     "output_type": "display_data"
    },
    {
     "data": {
      "application/vnd.jupyter.widget-view+json": {
       "model_id": "58498c2e83dd442a992e98ea2aeb9fb3",
       "version_major": 2,
       "version_minor": 0
      },
      "text/plain": [
       "Training epoch 2::   0%|          | 0/14 [00:00<?, ?it/s]"
      ]
     },
     "metadata": {},
     "output_type": "display_data"
    },
    {
     "data": {
      "application/vnd.jupyter.widget-view+json": {
       "model_id": "32cf3fe5e40949f7b9a048793825b23c",
       "version_major": 2,
       "version_minor": 0
      },
      "text/plain": [
       "Evaluating:   0%|          | 0/14 [00:00<?, ?it/s]"
      ]
     },
     "metadata": {},
     "output_type": "display_data"
    },
    {
     "data": {
      "application/vnd.jupyter.widget-view+json": {
       "model_id": "b3464599bfdc4b1e85070c6bab5ef97d",
       "version_major": 2,
       "version_minor": 0
      },
      "text/plain": [
       "Evaluating:   0%|          | 0/79 [00:00<?, ?it/s]"
      ]
     },
     "metadata": {},
     "output_type": "display_data"
    },
    {
     "data": {
      "application/vnd.jupyter.widget-view+json": {
       "model_id": "4ebb4d9bcfa74254b1a48d8383da2642",
       "version_major": 2,
       "version_minor": 0
      },
      "text/plain": [
       "Evaluating:   0%|          | 0/14 [00:00<?, ?it/s]"
      ]
     },
     "metadata": {},
     "output_type": "display_data"
    },
    {
     "data": {
      "application/vnd.jupyter.widget-view+json": {
       "model_id": "79b16f9611c14e0cb6bee7ddbb802e74",
       "version_major": 2,
       "version_minor": 0
      },
      "text/plain": [
       "Evaluating:   0%|          | 0/79 [00:00<?, ?it/s]"
      ]
     },
     "metadata": {},
     "output_type": "display_data"
    }
   ],
   "source": [
    "num_epoch = 5\n",
    "eval_steps = len(train_dataloader) // 2\n",
    "\n",
    "\n",
    "losses_type = {}\n",
    "accs_train_type = {}\n",
    "accs_val_type = {}\n",
    "\n",
    "for aggregation_type in ['max', 'mean']:\n",
    "    print(f\"Starting training for {aggregation_type}\")\n",
    "    losses = []\n",
    "    acc = []\n",
    "\n",
    "    model = SimpleRNN(hidden_dim=256,\n",
    "                      vocab_size=len(vocab),\n",
    "                      num_classes=8,\n",
    "                      aggregation_type=aggregation_type\n",
    "                      ).to(device)\n",
    "    criterion = nn.CrossEntropyLoss(ignore_index=word2ind['<pad>'])\n",
    "    optimizer = torch.optim.Adam(model.parameters(),lr = 0.001)\n",
    "\n",
    "    losses, accs_train, accs_val = train(model,\n",
    "                                         optimizer,\n",
    "                                         criterion,\n",
    "                                         num_epoch=3,\n",
    "                                         eval_steps=len(train_dataloader) // 2)\n",
    "\n",
    "    losses_type[aggregation_type] = losses\n",
    "    accs_train_type[aggregation_type] = accs_train\n",
    "    accs_val_type[aggregation_type] = accs_val"
   ]
  },
  {
   "cell_type": "code",
   "execution_count": 56,
   "metadata": {},
   "outputs": [
    {
     "data": {
      "image/png": "[encoded data removed]",
      "text/plain": [
       "<Figure size 640x480 with 1 Axes>"
      ]
     },
     "metadata": {},
     "output_type": "display_data"
    },
    {
     "data": {
      "image/png": "[encoded data removed]",
      "text/plain": [
       "<Figure size 640x480 with 1 Axes>"
      ]
     },
     "metadata": {},
     "output_type": "display_data"
    },
    {
     "data": {
      "image/png": "[encoded data removed]",
      "text/plain": [
       "<Figure size 640x480 with 1 Axes>"
      ]
     },
     "metadata": {},
     "output_type": "display_data"
    }
   ],
   "source": [
    "plt.style.use('ggplot')\n",
    "for aggregation_type in ['max', 'mean', 'last']:\n",
    "    plt.plot(losses_type[aggregation_type])\n",
    "plt.title('Losses')\n",
    "plt.legend(['max', 'mean', 'last'])\n",
    "plt.show()\n",
    "\n",
    "for aggregation_type in ['max', 'mean', 'last']:\n",
    "    plt.plot(accs_train_type[aggregation_type])\n",
    "plt.title('Train accs')\n",
    "plt.legend(['max', 'mean', 'last'])\n",
    "plt.show()\n",
    "\n",
    "for aggregation_type in ['max', 'mean', 'last']:\n",
    "    plt.plot(accs_val_type[aggregation_type])\n",
    "plt.title('Val accs')\n",
    "plt.legend(['max', 'mean', 'last'])\n",
    "plt.show()"
   ]
  }
 ],
 "metadata": {
  "kernelspec": {
   "display_name": "ML",
   "language": "python",
   "name": "python3"
  },
  "language_info": {
   "codemirror_mode": {
    "name": "ipython",
    "version": 3
   },
   "file_extension": ".py",
   "mimetype": "text/x-python",
   "name": "python",
   "nbconvert_exporter": "python",
   "pygments_lexer": "ipython3",
   "version": "3.10.11"
  }
 },
 "nbformat": 4,
 "nbformat_minor": 2
}
